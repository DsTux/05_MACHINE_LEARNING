{
 "cells": [
  {
   "cell_type": "markdown",
   "metadata": {
    "id": "i5WapR8JmqZN"
   },
   "source": [
    "# WELCOME!"
   ]
  },
  {
   "cell_type": "markdown",
   "metadata": {
    "id": "ZyeGWbuTmqZN"
   },
   "source": [
    "Welcome to \"***Car Price Prediction Project***\". This is the first medium project of ***Machine Learning*** course. In this project you will have the opportunity to apply many algorithms commonly used for regression problems.\n",
    "\n",
    "Also, you will apply various processes such as pre-processing, ***train-test spilit*** and ***cross validation*** that you will use in algorithm modeling and prediction processes in Python with ***scikit-learn***. \n",
    "\n",
    "Before diving into the project, please take a look at the determines and tasks.\n",
    "\n",
    "- **NOTE:** This project assumes that you already know the basics of coding in Python. You should also be familiar with the theory behind regression algorithms and scikit-learn module as well as Machine Learning before you begin.\n"
   ]
  },
  {
   "cell_type": "markdown",
   "metadata": {
    "id": "c0Iul5QymqZN"
   },
   "source": [
    "# #Determines\n",
    "\n",
    "The domain you must have remembered it because you are worked on under project **\"EDA for Car Price Prediction Model\"**. **Auto Scout** data which using for this project, scraped from the on-line car trading company in 2019, contains many features of 9 different car models. In this project, you will use the data sets prepared for algorithms as a result of the EDA project.\n",
    "\n",
    "So this study assumes that you are working on the EDA project and that you have sufficient domain knowledge.\n",
    "\n",
    "Therefore, you will not need any EDA process as you will be working on the edited data.\n",
    "\n",
    "---\n",
    "\n",
    "In this case, you will estimate the prices of cars using regression algorithms.\n",
    "\n",
    "While starting you should import the necessary modules and load the data given as pkl file. Also you'll need to do a few pre-processing before moving to modelling. After that you will implement ***Linear Regression, Ridge Regression, Lasso Regression, Random Forest*** and ***XG Boost*** algorithms respectively. You can measure the success of your models with regression evaluation metrics as well as with cross validation method.\n",
    "\n",
    "For the better results, you should try to increase the success of your models by performing hyperparameter tuning. Determine feature importances for the model. You can set your model with the most important features for resource saving. You should try to apply this especially in Random Forest and XG Boost algorithms. Unlike the others, you will perform hyperparameter tuning for Random Forest and XG Boost using the ***GridSearchCV*** method. \n",
    "\n",
    "Finally You can compare the performances of algorithms, work more on the algorithm have the most successful prediction rate.\n",
    "\n",
    "\n",
    "\n",
    "\n"
   ]
  },
  {
   "cell_type": "markdown",
   "metadata": {
    "id": "pL-jJ1irmqZN"
   },
   "source": [
    "# #Tasks\n",
    "\n",
    "#### 1. Import Modules, Load Data and Data Review\n",
    "#### 2. Data Pre-Processing\n",
    "#### 3. Implement Linear Regression \n",
    "#### 4. Implement Ridge Regression\n",
    "#### 5. Implement Lasso Regression "
   ]
  },
  {
   "cell_type": "markdown",
   "metadata": {
    "id": "Rik6d_vimqZN"
   },
   "source": [
    "## 1. Import Modules, Load Data and Data Review"
   ]
  },
  {
   "cell_type": "code",
   "execution_count": 1,
   "metadata": {},
   "outputs": [],
   "source": [
    "import pandas as pd\n",
    "import numpy as np\n",
    "import matplotlib.pyplot as plt\n",
    "import seaborn as sns\n",
    "from sklearn.preprocessing import StandardScaler\n",
    "from sklearn.metrics import mean_absolute_error\n",
    "from sklearn.metrics import mean_squared_error, mean_absolute_error, r2_score\n",
    "from sklearn.model_selection import train_test_split, GridSearchCV\n",
    "import warnings\n",
    "warnings.filterwarnings('ignore')\n",
    "%matplotlib inline"
   ]
  },
  {
   "cell_type": "code",
   "execution_count": 75,
   "metadata": {},
   "outputs": [],
   "source": [
    "import numpy as np\n",
    "import pandas as pd\n",
    "import statsmodels.api as sm\n",
    "import seaborn as sns\n",
    "import matplotlib.pyplot as plt\n",
    "from sklearn.preprocessing import scale, StandardScaler\n",
    "from sklearn.model_selection import train_test_split, GridSearchCV, cross_val_score\n",
    "from sklearn.metrics import confusion_matrix, accuracy_score, mean_squared_error, r2_score, roc_auc_score, roc_curve, classification_report\n",
    "from sklearn.linear_model import LogisticRegression\n",
    "from sklearn.neighbors import KNeighborsClassifier\n",
    "from sklearn.tree import DecisionTreeClassifier\n",
    "from sklearn.ensemble import RandomForestClassifier\n",
    "from sklearn.ensemble import GradientBoostingClassifier\n",
    "import warnings\n",
    "warnings.filterwarnings(\"ignore\")"
   ]
  },
  {
   "cell_type": "code",
   "execution_count": 76,
   "metadata": {},
   "outputs": [],
   "source": [
    "import pickle"
   ]
  },
  {
   "cell_type": "code",
   "execution_count": 77,
   "metadata": {},
   "outputs": [],
   "source": [
    "with open('golden_data_dummy.pkl', 'rb') as f:\n",
    "    df = pickle.load(f)"
   ]
  },
  {
   "cell_type": "code",
   "execution_count": 78,
   "metadata": {},
   "outputs": [
    {
     "data": {
      "text/html": [
       "<div>\n",
       "<style scoped>\n",
       "    .dataframe tbody tr th:only-of-type {\n",
       "        vertical-align: middle;\n",
       "    }\n",
       "\n",
       "    .dataframe tbody tr th {\n",
       "        vertical-align: top;\n",
       "    }\n",
       "\n",
       "    .dataframe thead th {\n",
       "        text-align: right;\n",
       "    }\n",
       "</style>\n",
       "<table border=\"1\" class=\"dataframe\">\n",
       "  <thead>\n",
       "    <tr style=\"text-align: right;\">\n",
       "      <th></th>\n",
       "      <th>displacement</th>\n",
       "      <th>hp</th>\n",
       "      <th>km</th>\n",
       "      <th>ss_abs</th>\n",
       "      <th>ss_adaptive_cruise_control</th>\n",
       "      <th>ss_adaptive_headlights</th>\n",
       "      <th>ss_alarm_system</th>\n",
       "      <th>ss_blind_spot_monitor</th>\n",
       "      <th>ss_central_door_lock</th>\n",
       "      <th>ss_central_door_lock_with_remote_control</th>\n",
       "      <th>...</th>\n",
       "      <th>gearing_type_Semi-automatic</th>\n",
       "      <th>fuel_diesel</th>\n",
       "      <th>fuel_electric</th>\n",
       "      <th>fuel_gasoline</th>\n",
       "      <th>fuel_lpg</th>\n",
       "      <th>type_Demonstration</th>\n",
       "      <th>type_Employee's car</th>\n",
       "      <th>type_New</th>\n",
       "      <th>type_Pre-registered</th>\n",
       "      <th>type_Used</th>\n",
       "    </tr>\n",
       "  </thead>\n",
       "  <tbody>\n",
       "    <tr>\n",
       "      <th>0</th>\n",
       "      <td>1422.0</td>\n",
       "      <td>66.0</td>\n",
       "      <td>56013</td>\n",
       "      <td>1.0</td>\n",
       "      <td>0.0</td>\n",
       "      <td>0.0</td>\n",
       "      <td>0.0</td>\n",
       "      <td>0.0</td>\n",
       "      <td>1.0</td>\n",
       "      <td>0.0</td>\n",
       "      <td>...</td>\n",
       "      <td>0</td>\n",
       "      <td>1</td>\n",
       "      <td>0</td>\n",
       "      <td>0</td>\n",
       "      <td>0</td>\n",
       "      <td>0</td>\n",
       "      <td>0</td>\n",
       "      <td>0</td>\n",
       "      <td>0</td>\n",
       "      <td>1</td>\n",
       "    </tr>\n",
       "    <tr>\n",
       "      <th>1</th>\n",
       "      <td>1798.0</td>\n",
       "      <td>141.0</td>\n",
       "      <td>80000</td>\n",
       "      <td>1.0</td>\n",
       "      <td>0.0</td>\n",
       "      <td>0.0</td>\n",
       "      <td>0.0</td>\n",
       "      <td>0.0</td>\n",
       "      <td>1.0</td>\n",
       "      <td>1.0</td>\n",
       "      <td>...</td>\n",
       "      <td>0</td>\n",
       "      <td>0</td>\n",
       "      <td>0</td>\n",
       "      <td>1</td>\n",
       "      <td>0</td>\n",
       "      <td>0</td>\n",
       "      <td>0</td>\n",
       "      <td>0</td>\n",
       "      <td>0</td>\n",
       "      <td>1</td>\n",
       "    </tr>\n",
       "    <tr>\n",
       "      <th>2</th>\n",
       "      <td>1598.0</td>\n",
       "      <td>85.0</td>\n",
       "      <td>83450</td>\n",
       "      <td>1.0</td>\n",
       "      <td>0.0</td>\n",
       "      <td>0.0</td>\n",
       "      <td>0.0</td>\n",
       "      <td>0.0</td>\n",
       "      <td>1.0</td>\n",
       "      <td>0.0</td>\n",
       "      <td>...</td>\n",
       "      <td>0</td>\n",
       "      <td>1</td>\n",
       "      <td>0</td>\n",
       "      <td>0</td>\n",
       "      <td>0</td>\n",
       "      <td>0</td>\n",
       "      <td>0</td>\n",
       "      <td>0</td>\n",
       "      <td>0</td>\n",
       "      <td>1</td>\n",
       "    </tr>\n",
       "    <tr>\n",
       "      <th>3</th>\n",
       "      <td>1422.0</td>\n",
       "      <td>66.0</td>\n",
       "      <td>73000</td>\n",
       "      <td>1.0</td>\n",
       "      <td>0.0</td>\n",
       "      <td>0.0</td>\n",
       "      <td>1.0</td>\n",
       "      <td>0.0</td>\n",
       "      <td>0.0</td>\n",
       "      <td>1.0</td>\n",
       "      <td>...</td>\n",
       "      <td>0</td>\n",
       "      <td>1</td>\n",
       "      <td>0</td>\n",
       "      <td>0</td>\n",
       "      <td>0</td>\n",
       "      <td>0</td>\n",
       "      <td>0</td>\n",
       "      <td>0</td>\n",
       "      <td>0</td>\n",
       "      <td>1</td>\n",
       "    </tr>\n",
       "    <tr>\n",
       "      <th>4</th>\n",
       "      <td>1422.0</td>\n",
       "      <td>66.0</td>\n",
       "      <td>16200</td>\n",
       "      <td>1.0</td>\n",
       "      <td>0.0</td>\n",
       "      <td>0.0</td>\n",
       "      <td>0.0</td>\n",
       "      <td>0.0</td>\n",
       "      <td>1.0</td>\n",
       "      <td>0.0</td>\n",
       "      <td>...</td>\n",
       "      <td>0</td>\n",
       "      <td>1</td>\n",
       "      <td>0</td>\n",
       "      <td>0</td>\n",
       "      <td>0</td>\n",
       "      <td>0</td>\n",
       "      <td>0</td>\n",
       "      <td>0</td>\n",
       "      <td>0</td>\n",
       "      <td>1</td>\n",
       "    </tr>\n",
       "    <tr>\n",
       "      <th>...</th>\n",
       "      <td>...</td>\n",
       "      <td>...</td>\n",
       "      <td>...</td>\n",
       "      <td>...</td>\n",
       "      <td>...</td>\n",
       "      <td>...</td>\n",
       "      <td>...</td>\n",
       "      <td>...</td>\n",
       "      <td>...</td>\n",
       "      <td>...</td>\n",
       "      <td>...</td>\n",
       "      <td>...</td>\n",
       "      <td>...</td>\n",
       "      <td>...</td>\n",
       "      <td>...</td>\n",
       "      <td>...</td>\n",
       "      <td>...</td>\n",
       "      <td>...</td>\n",
       "      <td>...</td>\n",
       "      <td>...</td>\n",
       "      <td>...</td>\n",
       "    </tr>\n",
       "    <tr>\n",
       "      <th>15913</th>\n",
       "      <td>1798.0</td>\n",
       "      <td>165.0</td>\n",
       "      <td>1000</td>\n",
       "      <td>1.0</td>\n",
       "      <td>1.0</td>\n",
       "      <td>0.0</td>\n",
       "      <td>0.0</td>\n",
       "      <td>1.0</td>\n",
       "      <td>1.0</td>\n",
       "      <td>0.0</td>\n",
       "      <td>...</td>\n",
       "      <td>0</td>\n",
       "      <td>0</td>\n",
       "      <td>0</td>\n",
       "      <td>1</td>\n",
       "      <td>0</td>\n",
       "      <td>1</td>\n",
       "      <td>0</td>\n",
       "      <td>0</td>\n",
       "      <td>0</td>\n",
       "      <td>0</td>\n",
       "    </tr>\n",
       "    <tr>\n",
       "      <th>15915</th>\n",
       "      <td>1798.0</td>\n",
       "      <td>165.0</td>\n",
       "      <td>9900</td>\n",
       "      <td>1.0</td>\n",
       "      <td>1.0</td>\n",
       "      <td>0.0</td>\n",
       "      <td>0.0</td>\n",
       "      <td>1.0</td>\n",
       "      <td>1.0</td>\n",
       "      <td>0.0</td>\n",
       "      <td>...</td>\n",
       "      <td>0</td>\n",
       "      <td>0</td>\n",
       "      <td>0</td>\n",
       "      <td>1</td>\n",
       "      <td>0</td>\n",
       "      <td>0</td>\n",
       "      <td>0</td>\n",
       "      <td>0</td>\n",
       "      <td>0</td>\n",
       "      <td>1</td>\n",
       "    </tr>\n",
       "    <tr>\n",
       "      <th>15916</th>\n",
       "      <td>1997.0</td>\n",
       "      <td>146.0</td>\n",
       "      <td>15</td>\n",
       "      <td>1.0</td>\n",
       "      <td>1.0</td>\n",
       "      <td>0.0</td>\n",
       "      <td>0.0</td>\n",
       "      <td>1.0</td>\n",
       "      <td>1.0</td>\n",
       "      <td>0.0</td>\n",
       "      <td>...</td>\n",
       "      <td>0</td>\n",
       "      <td>1</td>\n",
       "      <td>0</td>\n",
       "      <td>0</td>\n",
       "      <td>0</td>\n",
       "      <td>0</td>\n",
       "      <td>0</td>\n",
       "      <td>0</td>\n",
       "      <td>1</td>\n",
       "      <td>0</td>\n",
       "    </tr>\n",
       "    <tr>\n",
       "      <th>15917</th>\n",
       "      <td>1997.0</td>\n",
       "      <td>147.0</td>\n",
       "      <td>10</td>\n",
       "      <td>1.0</td>\n",
       "      <td>0.0</td>\n",
       "      <td>0.0</td>\n",
       "      <td>0.0</td>\n",
       "      <td>1.0</td>\n",
       "      <td>0.0</td>\n",
       "      <td>0.0</td>\n",
       "      <td>...</td>\n",
       "      <td>0</td>\n",
       "      <td>1</td>\n",
       "      <td>0</td>\n",
       "      <td>0</td>\n",
       "      <td>0</td>\n",
       "      <td>0</td>\n",
       "      <td>0</td>\n",
       "      <td>0</td>\n",
       "      <td>1</td>\n",
       "      <td>0</td>\n",
       "    </tr>\n",
       "    <tr>\n",
       "      <th>15918</th>\n",
       "      <td>1798.0</td>\n",
       "      <td>165.0</td>\n",
       "      <td>2095</td>\n",
       "      <td>1.0</td>\n",
       "      <td>0.0</td>\n",
       "      <td>0.0</td>\n",
       "      <td>0.0</td>\n",
       "      <td>1.0</td>\n",
       "      <td>0.0</td>\n",
       "      <td>0.0</td>\n",
       "      <td>...</td>\n",
       "      <td>0</td>\n",
       "      <td>0</td>\n",
       "      <td>0</td>\n",
       "      <td>1</td>\n",
       "      <td>0</td>\n",
       "      <td>1</td>\n",
       "      <td>0</td>\n",
       "      <td>0</td>\n",
       "      <td>0</td>\n",
       "      <td>0</td>\n",
       "    </tr>\n",
       "  </tbody>\n",
       "</table>\n",
       "<p>14990 rows × 136 columns</p>\n",
       "</div>"
      ],
      "text/plain": [
       "       displacement     hp     km  ss_abs  ss_adaptive_cruise_control  \\\n",
       "0            1422.0   66.0  56013     1.0                         0.0   \n",
       "1            1798.0  141.0  80000     1.0                         0.0   \n",
       "2            1598.0   85.0  83450     1.0                         0.0   \n",
       "3            1422.0   66.0  73000     1.0                         0.0   \n",
       "4            1422.0   66.0  16200     1.0                         0.0   \n",
       "...             ...    ...    ...     ...                         ...   \n",
       "15913        1798.0  165.0   1000     1.0                         1.0   \n",
       "15915        1798.0  165.0   9900     1.0                         1.0   \n",
       "15916        1997.0  146.0     15     1.0                         1.0   \n",
       "15917        1997.0  147.0     10     1.0                         0.0   \n",
       "15918        1798.0  165.0   2095     1.0                         0.0   \n",
       "\n",
       "       ss_adaptive_headlights  ss_alarm_system  ss_blind_spot_monitor  \\\n",
       "0                         0.0              0.0                    0.0   \n",
       "1                         0.0              0.0                    0.0   \n",
       "2                         0.0              0.0                    0.0   \n",
       "3                         0.0              1.0                    0.0   \n",
       "4                         0.0              0.0                    0.0   \n",
       "...                       ...              ...                    ...   \n",
       "15913                     0.0              0.0                    1.0   \n",
       "15915                     0.0              0.0                    1.0   \n",
       "15916                     0.0              0.0                    1.0   \n",
       "15917                     0.0              0.0                    1.0   \n",
       "15918                     0.0              0.0                    1.0   \n",
       "\n",
       "       ss_central_door_lock  ss_central_door_lock_with_remote_control  ...  \\\n",
       "0                       1.0                                       0.0  ...   \n",
       "1                       1.0                                       1.0  ...   \n",
       "2                       1.0                                       0.0  ...   \n",
       "3                       0.0                                       1.0  ...   \n",
       "4                       1.0                                       0.0  ...   \n",
       "...                     ...                                       ...  ...   \n",
       "15913                   1.0                                       0.0  ...   \n",
       "15915                   1.0                                       0.0  ...   \n",
       "15916                   1.0                                       0.0  ...   \n",
       "15917                   0.0                                       0.0  ...   \n",
       "15918                   0.0                                       0.0  ...   \n",
       "\n",
       "       gearing_type_Semi-automatic  fuel_diesel  fuel_electric  fuel_gasoline  \\\n",
       "0                                0            1              0              0   \n",
       "1                                0            0              0              1   \n",
       "2                                0            1              0              0   \n",
       "3                                0            1              0              0   \n",
       "4                                0            1              0              0   \n",
       "...                            ...          ...            ...            ...   \n",
       "15913                            0            0              0              1   \n",
       "15915                            0            0              0              1   \n",
       "15916                            0            1              0              0   \n",
       "15917                            0            1              0              0   \n",
       "15918                            0            0              0              1   \n",
       "\n",
       "       fuel_lpg  type_Demonstration  type_Employee's car  type_New  \\\n",
       "0             0                   0                    0         0   \n",
       "1             0                   0                    0         0   \n",
       "2             0                   0                    0         0   \n",
       "3             0                   0                    0         0   \n",
       "4             0                   0                    0         0   \n",
       "...         ...                 ...                  ...       ...   \n",
       "15913         0                   1                    0         0   \n",
       "15915         0                   0                    0         0   \n",
       "15916         0                   0                    0         0   \n",
       "15917         0                   0                    0         0   \n",
       "15918         0                   1                    0         0   \n",
       "\n",
       "       type_Pre-registered  type_Used  \n",
       "0                        0          1  \n",
       "1                        0          1  \n",
       "2                        0          1  \n",
       "3                        0          1  \n",
       "4                        0          1  \n",
       "...                    ...        ...  \n",
       "15913                    0          0  \n",
       "15915                    0          1  \n",
       "15916                    1          0  \n",
       "15917                    1          0  \n",
       "15918                    0          0  \n",
       "\n",
       "[14990 rows x 136 columns]"
      ]
     },
     "execution_count": 78,
     "metadata": {},
     "output_type": "execute_result"
    }
   ],
   "source": [
    "df"
   ]
  },
  {
   "cell_type": "code",
   "execution_count": 2,
   "metadata": {},
   "outputs": [
    {
     "ename": "NameError",
     "evalue": "name 'df' is not defined",
     "output_type": "error",
     "traceback": [
      "\u001b[1;31m---------------------------------------------------------------------------\u001b[0m",
      "\u001b[1;31mNameError\u001b[0m                                 Traceback (most recent call last)",
      "\u001b[1;32m<ipython-input-2-4becb183fbea>\u001b[0m in \u001b[0;36m<module>\u001b[1;34m\u001b[0m\n\u001b[1;32m----> 1\u001b[1;33m \u001b[0mX\u001b[0m\u001b[1;33m=\u001b[0m \u001b[0mdf\u001b[0m\u001b[1;33m.\u001b[0m\u001b[0mdrop\u001b[0m\u001b[1;33m(\u001b[0m\u001b[1;34m\"price\"\u001b[0m\u001b[1;33m,\u001b[0m \u001b[0maxis\u001b[0m \u001b[1;33m=\u001b[0m\u001b[1;36m1\u001b[0m\u001b[1;33m)\u001b[0m\u001b[1;33m\u001b[0m\u001b[1;33m\u001b[0m\u001b[0m\n\u001b[0m\u001b[0;32m      2\u001b[0m \u001b[0my\u001b[0m\u001b[1;33m=\u001b[0m \u001b[0mdf\u001b[0m\u001b[1;33m[\u001b[0m\u001b[1;34m\"price\"\u001b[0m\u001b[1;33m]\u001b[0m\u001b[1;33m\u001b[0m\u001b[1;33m\u001b[0m\u001b[0m\n\u001b[0;32m      3\u001b[0m X_train, X_test, y_train, y_test = train_test_split(df.drop('price',axis=1),\n\u001b[0;32m      4\u001b[0m                                                     \u001b[0mdf\u001b[0m\u001b[1;33m[\u001b[0m\u001b[1;34m'price'\u001b[0m\u001b[1;33m]\u001b[0m\u001b[1;33m,\u001b[0m \u001b[0mtest_size\u001b[0m\u001b[1;33m=\u001b[0m\u001b[1;36m0.3\u001b[0m\u001b[1;33m,\u001b[0m\u001b[1;33m\u001b[0m\u001b[1;33m\u001b[0m\u001b[0m\n\u001b[0;32m      5\u001b[0m                                                     random_state=42)\n",
      "\u001b[1;31mNameError\u001b[0m: name 'df' is not defined"
     ]
    }
   ],
   "source": [
    "X= df.drop(\"price\", axis =1)\n",
    "y= df[\"price\"]\n",
    "X_train, X_test, y_train, y_test = train_test_split(df.drop('price',axis=1),\n",
    "                                                    df['price'], test_size=0.3,\n",
    "                                                    random_state=42)\n"
   ]
  },
  {
   "cell_type": "code",
   "execution_count": 3,
   "metadata": {},
   "outputs": [],
   "source": [
    "def xgboost(self):\n",
    "        X_train_v = self.X_train.values\n",
    "        X_test= self.X_test.values\n",
    "        xgb_model = XGBRegressor().fit(X_train_v, self.y_train)\n",
    "        y_pred = xgb_model.predict(X_test_v)\n",
    "        self.xgboost_rmse = np.sqrt(mean_squared_error(self.y_test, y_pred))\n",
    "        #Model Tuning\n",
    "        xgb_params ={\"colsample_bytree\": [0.6,0.9,1],\n",
    "                     \"n_estimators\" : [100,200,500,1000],\n",
    "                     \"max_depth\" : [4,5,6],\n",
    "                     \"learning_rate\": [0.1,0.3,0.5]}\n",
    "        self.xgb_result_list = []\n",
    "        colsample_bytree_list = xgb_params[\"colsample_bytree\"]\n",
    "        n_estimators_list = xgb_params[\"n_estimators\"]\n",
    "        max_depth_list = xgb_params[\"max_depth\"]\n",
    "        learning_rate_list = xgb_params[\"learning_rate\"]\n",
    "        for i in range(len(colsample_bytree_list)):\n",
    "            for j in range(len(n_estimators_list)):\n",
    "                for k in range(len(max_depth_list)):\n",
    "                    for l in range(len(learning_rate_list)):\n",
    "                        temp_list = []\n",
    "                        xgb_model = XGBRegressor(colsample_bytree = colsample_bytree_list[i],\n",
    "                                                 n_estimators = n_estimators_list[j],\n",
    "                                                 max_depth = max_depth_list[k],\n",
    "                                                 learning_rate = learning_rate_list[l])\n",
    "                        xgb_model.fit(X_train_v, self.y_train)\n",
    "                        y_pred = xgb_model.predict(X_test_v)\n",
    "                        xgb_rmse = np.sqrt(mean_squared_error(self.y_test, y_pred))\n",
    "                        temp_list.extend((xgb_rmse, colsample_bytree_list[i], n_estimators_list[j], max_depth_list[k], learning_rate_list[l]))\n",
    "                        self.xgb_result_list.append(temp_list)\n",
    "        self.xgb_result_list.sort()\n",
    "        self.xgb_tuned = XGBRegressor(colsample_by_tree = self.xgb_result_list[0][1],\n",
    "                                      n_estimators  =self.xgb_result_list[0][2],\n",
    "                                      max_depth = self.xgb_result_list[0][3],\n",
    "                                      learning_rate = self.xgb_result_list[0][4])\n",
    "        self.xgb_tuned.fit(X_train_v, self.y_train)\n",
    "        y_pred = self.xgb_tuned.predict(X_test_v)\n",
    "        xgb_tuned_rmse = np.sqrt(mean_squared_error(self.y_test,y_pred))\n",
    "        self.xgb_tuned_rmse_per  =np.sqrt(np.mean(np.square(((self.y_test - y_pred) / self.y_test))))*100\n",
    "        self.xgb_mae = mean_absolute_error(self.y_test, y_pred)\n",
    "        self.xgb_mape =  np.abs((self.y_test - y_pred) / self.y_test).mean(axis=0) * 100\n",
    "        return xgb_tuned_rmse"
   ]
  },
  {
   "cell_type": "code",
   "execution_count": 115,
   "metadata": {},
   "outputs": [
    {
     "name": "stdout",
     "output_type": "stream",
     "text": [
      "<class 'pandas.core.frame.DataFrame'>\n",
      "Int64Index: 14990 entries, 0 to 15918\n",
      "Columns: 136 entries, displacement to type_Used\n",
      "dtypes: float64(86), int64(5), uint8(45)\n",
      "memory usage: 11.2 MB\n"
     ]
    }
   ],
   "source": [
    "df.info()"
   ]
  },
  {
   "cell_type": "code",
   "execution_count": 80,
   "metadata": {},
   "outputs": [
    {
     "data": {
      "text/html": [
       "<div>\n",
       "<style scoped>\n",
       "    .dataframe tbody tr th:only-of-type {\n",
       "        vertical-align: middle;\n",
       "    }\n",
       "\n",
       "    .dataframe tbody tr th {\n",
       "        vertical-align: top;\n",
       "    }\n",
       "\n",
       "    .dataframe thead th {\n",
       "        text-align: right;\n",
       "    }\n",
       "</style>\n",
       "<table border=\"1\" class=\"dataframe\">\n",
       "  <thead>\n",
       "    <tr style=\"text-align: right;\">\n",
       "      <th></th>\n",
       "      <th>displacement</th>\n",
       "      <th>hp</th>\n",
       "      <th>km</th>\n",
       "      <th>ss_abs</th>\n",
       "      <th>ss_adaptive_cruise_control</th>\n",
       "      <th>ss_adaptive_headlights</th>\n",
       "      <th>ss_alarm_system</th>\n",
       "      <th>ss_blind_spot_monitor</th>\n",
       "      <th>ss_central_door_lock</th>\n",
       "      <th>ss_central_door_lock_with_remote_control</th>\n",
       "      <th>...</th>\n",
       "      <th>gearing_type_Semi-automatic</th>\n",
       "      <th>fuel_diesel</th>\n",
       "      <th>fuel_electric</th>\n",
       "      <th>fuel_gasoline</th>\n",
       "      <th>fuel_lpg</th>\n",
       "      <th>type_Demonstration</th>\n",
       "      <th>type_Employee's car</th>\n",
       "      <th>type_New</th>\n",
       "      <th>type_Pre-registered</th>\n",
       "      <th>type_Used</th>\n",
       "    </tr>\n",
       "  </thead>\n",
       "  <tbody>\n",
       "    <tr>\n",
       "      <th>0</th>\n",
       "      <td>1422.0</td>\n",
       "      <td>66.0</td>\n",
       "      <td>56013</td>\n",
       "      <td>1.0</td>\n",
       "      <td>0.0</td>\n",
       "      <td>0.0</td>\n",
       "      <td>0.0</td>\n",
       "      <td>0.0</td>\n",
       "      <td>1.0</td>\n",
       "      <td>0.0</td>\n",
       "      <td>...</td>\n",
       "      <td>0</td>\n",
       "      <td>1</td>\n",
       "      <td>0</td>\n",
       "      <td>0</td>\n",
       "      <td>0</td>\n",
       "      <td>0</td>\n",
       "      <td>0</td>\n",
       "      <td>0</td>\n",
       "      <td>0</td>\n",
       "      <td>1</td>\n",
       "    </tr>\n",
       "    <tr>\n",
       "      <th>1</th>\n",
       "      <td>1798.0</td>\n",
       "      <td>141.0</td>\n",
       "      <td>80000</td>\n",
       "      <td>1.0</td>\n",
       "      <td>0.0</td>\n",
       "      <td>0.0</td>\n",
       "      <td>0.0</td>\n",
       "      <td>0.0</td>\n",
       "      <td>1.0</td>\n",
       "      <td>1.0</td>\n",
       "      <td>...</td>\n",
       "      <td>0</td>\n",
       "      <td>0</td>\n",
       "      <td>0</td>\n",
       "      <td>1</td>\n",
       "      <td>0</td>\n",
       "      <td>0</td>\n",
       "      <td>0</td>\n",
       "      <td>0</td>\n",
       "      <td>0</td>\n",
       "      <td>1</td>\n",
       "    </tr>\n",
       "    <tr>\n",
       "      <th>2</th>\n",
       "      <td>1598.0</td>\n",
       "      <td>85.0</td>\n",
       "      <td>83450</td>\n",
       "      <td>1.0</td>\n",
       "      <td>0.0</td>\n",
       "      <td>0.0</td>\n",
       "      <td>0.0</td>\n",
       "      <td>0.0</td>\n",
       "      <td>1.0</td>\n",
       "      <td>0.0</td>\n",
       "      <td>...</td>\n",
       "      <td>0</td>\n",
       "      <td>1</td>\n",
       "      <td>0</td>\n",
       "      <td>0</td>\n",
       "      <td>0</td>\n",
       "      <td>0</td>\n",
       "      <td>0</td>\n",
       "      <td>0</td>\n",
       "      <td>0</td>\n",
       "      <td>1</td>\n",
       "    </tr>\n",
       "    <tr>\n",
       "      <th>3</th>\n",
       "      <td>1422.0</td>\n",
       "      <td>66.0</td>\n",
       "      <td>73000</td>\n",
       "      <td>1.0</td>\n",
       "      <td>0.0</td>\n",
       "      <td>0.0</td>\n",
       "      <td>1.0</td>\n",
       "      <td>0.0</td>\n",
       "      <td>0.0</td>\n",
       "      <td>1.0</td>\n",
       "      <td>...</td>\n",
       "      <td>0</td>\n",
       "      <td>1</td>\n",
       "      <td>0</td>\n",
       "      <td>0</td>\n",
       "      <td>0</td>\n",
       "      <td>0</td>\n",
       "      <td>0</td>\n",
       "      <td>0</td>\n",
       "      <td>0</td>\n",
       "      <td>1</td>\n",
       "    </tr>\n",
       "    <tr>\n",
       "      <th>4</th>\n",
       "      <td>1422.0</td>\n",
       "      <td>66.0</td>\n",
       "      <td>16200</td>\n",
       "      <td>1.0</td>\n",
       "      <td>0.0</td>\n",
       "      <td>0.0</td>\n",
       "      <td>0.0</td>\n",
       "      <td>0.0</td>\n",
       "      <td>1.0</td>\n",
       "      <td>0.0</td>\n",
       "      <td>...</td>\n",
       "      <td>0</td>\n",
       "      <td>1</td>\n",
       "      <td>0</td>\n",
       "      <td>0</td>\n",
       "      <td>0</td>\n",
       "      <td>0</td>\n",
       "      <td>0</td>\n",
       "      <td>0</td>\n",
       "      <td>0</td>\n",
       "      <td>1</td>\n",
       "    </tr>\n",
       "  </tbody>\n",
       "</table>\n",
       "<p>5 rows × 136 columns</p>\n",
       "</div>"
      ],
      "text/plain": [
       "   displacement     hp     km  ss_abs  ss_adaptive_cruise_control  \\\n",
       "0        1422.0   66.0  56013     1.0                         0.0   \n",
       "1        1798.0  141.0  80000     1.0                         0.0   \n",
       "2        1598.0   85.0  83450     1.0                         0.0   \n",
       "3        1422.0   66.0  73000     1.0                         0.0   \n",
       "4        1422.0   66.0  16200     1.0                         0.0   \n",
       "\n",
       "   ss_adaptive_headlights  ss_alarm_system  ss_blind_spot_monitor  \\\n",
       "0                     0.0              0.0                    0.0   \n",
       "1                     0.0              0.0                    0.0   \n",
       "2                     0.0              0.0                    0.0   \n",
       "3                     0.0              1.0                    0.0   \n",
       "4                     0.0              0.0                    0.0   \n",
       "\n",
       "   ss_central_door_lock  ss_central_door_lock_with_remote_control  ...  \\\n",
       "0                   1.0                                       0.0  ...   \n",
       "1                   1.0                                       1.0  ...   \n",
       "2                   1.0                                       0.0  ...   \n",
       "3                   0.0                                       1.0  ...   \n",
       "4                   1.0                                       0.0  ...   \n",
       "\n",
       "   gearing_type_Semi-automatic  fuel_diesel  fuel_electric  fuel_gasoline  \\\n",
       "0                            0            1              0              0   \n",
       "1                            0            0              0              1   \n",
       "2                            0            1              0              0   \n",
       "3                            0            1              0              0   \n",
       "4                            0            1              0              0   \n",
       "\n",
       "   fuel_lpg  type_Demonstration  type_Employee's car  type_New  \\\n",
       "0         0                   0                    0         0   \n",
       "1         0                   0                    0         0   \n",
       "2         0                   0                    0         0   \n",
       "3         0                   0                    0         0   \n",
       "4         0                   0                    0         0   \n",
       "\n",
       "   type_Pre-registered  type_Used  \n",
       "0                    0          1  \n",
       "1                    0          1  \n",
       "2                    0          1  \n",
       "3                    0          1  \n",
       "4                    0          1  \n",
       "\n",
       "[5 rows x 136 columns]"
      ]
     },
     "execution_count": 80,
     "metadata": {},
     "output_type": "execute_result"
    }
   ],
   "source": [
    "df = pd.read_pickle(\"golden_data_dummy.pkl\")\n",
    "df.head()"
   ]
  },
  {
   "cell_type": "code",
   "execution_count": 81,
   "metadata": {},
   "outputs": [
    {
     "data": {
      "text/plain": [
       "Index(['displacement', 'hp', 'km', 'ss_abs', 'ss_adaptive_cruise_control',\n",
       "       'ss_adaptive_headlights', 'ss_alarm_system', 'ss_blind_spot_monitor',\n",
       "       'ss_central_door_lock', 'ss_central_door_lock_with_remote_control',\n",
       "       ...\n",
       "       'gearing_type_Semi-automatic', 'fuel_diesel', 'fuel_electric',\n",
       "       'fuel_gasoline', 'fuel_lpg', 'type_Demonstration',\n",
       "       'type_Employee's car', 'type_New', 'type_Pre-registered', 'type_Used'],\n",
       "      dtype='object', length=136)"
      ]
     },
     "execution_count": 81,
     "metadata": {},
     "output_type": "execute_result"
    }
   ],
   "source": [
    "df.columns"
   ]
  },
  {
   "cell_type": "code",
   "execution_count": 82,
   "metadata": {},
   "outputs": [],
   "source": [
    "# EDA"
   ]
  },
  {
   "cell_type": "code",
   "execution_count": 83,
   "metadata": {},
   "outputs": [
    {
     "data": {
      "text/plain": [
       "displacement                  0\n",
       "hp                            0\n",
       "km                            0\n",
       "ss_abs                        0\n",
       "ss_adaptive_cruise_control    0\n",
       "                             ..\n",
       "type_Demonstration            0\n",
       "type_Employee's car           0\n",
       "type_New                      0\n",
       "type_Pre-registered           0\n",
       "type_Used                     0\n",
       "Length: 136, dtype: int64"
      ]
     },
     "execution_count": 83,
     "metadata": {},
     "output_type": "execute_result"
    }
   ],
   "source": [
    "pd.isnull(df).sum()"
   ]
  },
  {
   "cell_type": "code",
   "execution_count": 84,
   "metadata": {},
   "outputs": [
    {
     "data": {
      "text/plain": [
       "displacement                  False\n",
       "hp                            False\n",
       "km                            False\n",
       "ss_abs                        False\n",
       "ss_adaptive_cruise_control    False\n",
       "                              ...  \n",
       "type_Demonstration            False\n",
       "type_Employee's car           False\n",
       "type_New                      False\n",
       "type_Pre-registered           False\n",
       "type_Used                     False\n",
       "Length: 136, dtype: bool"
      ]
     },
     "execution_count": 84,
     "metadata": {},
     "output_type": "execute_result"
    }
   ],
   "source": [
    "df.isnull().any()"
   ]
  },
  {
   "cell_type": "code",
   "execution_count": 85,
   "metadata": {},
   "outputs": [
    {
     "data": {
      "text/plain": [
       "<matplotlib.axes._subplots.AxesSubplot at 0x1b7be94c148>"
      ]
     },
     "execution_count": 85,
     "metadata": {},
     "output_type": "execute_result"
    },
    {
     "data": {
      "image/png": "[encoded data removed]",
      "text/plain": [
       "<Figure size 576x396 with 2 Axes>"
      ]
     },
     "metadata": {},
     "output_type": "display_data"
    }
   ],
   "source": [
    "sns.heatmap(df.corr())"
   ]
  },
  {
   "cell_type": "code",
   "execution_count": 86,
   "metadata": {},
   "outputs": [
    {
     "data": {
      "text/plain": [
       "14990"
      ]
     },
     "execution_count": 86,
     "metadata": {},
     "output_type": "execute_result"
    }
   ],
   "source": [
    "df.shape[0]"
   ]
  },
  {
   "cell_type": "code",
   "execution_count": 87,
   "metadata": {
    "scrolled": true
   },
   "outputs": [
    {
     "data": {
      "text/plain": [
       "14990    153\n",
       "15990    149\n",
       "10990    135\n",
       "15900    106\n",
       "17990     99\n",
       "        ... \n",
       "31459      1\n",
       "26994      1\n",
       "13050      1\n",
       "15115      1\n",
       "18525      1\n",
       "Name: price, Length: 2631, dtype: int64"
      ]
     },
     "execution_count": 87,
     "metadata": {},
     "output_type": "execute_result"
    }
   ],
   "source": [
    "df[\"price\"].value_counts(dropna = False)"
   ]
  },
  {
   "cell_type": "code",
   "execution_count": 88,
   "metadata": {
    "scrolled": true
   },
   "outputs": [
    {
     "data": {
      "text/html": [
       "<div>\n",
       "<style scoped>\n",
       "    .dataframe tbody tr th:only-of-type {\n",
       "        vertical-align: middle;\n",
       "    }\n",
       "\n",
       "    .dataframe tbody tr th {\n",
       "        vertical-align: top;\n",
       "    }\n",
       "\n",
       "    .dataframe thead th {\n",
       "        text-align: right;\n",
       "    }\n",
       "</style>\n",
       "<table border=\"1\" class=\"dataframe\">\n",
       "  <thead>\n",
       "    <tr style=\"text-align: right;\">\n",
       "      <th></th>\n",
       "      <th>displacement</th>\n",
       "      <th>hp</th>\n",
       "      <th>km</th>\n",
       "      <th>ss_abs</th>\n",
       "      <th>ss_adaptive_cruise_control</th>\n",
       "      <th>ss_adaptive_headlights</th>\n",
       "      <th>ss_alarm_system</th>\n",
       "      <th>ss_blind_spot_monitor</th>\n",
       "      <th>ss_central_door_lock</th>\n",
       "      <th>ss_central_door_lock_with_remote_control</th>\n",
       "      <th>...</th>\n",
       "      <th>gearing_type_Semi-automatic</th>\n",
       "      <th>fuel_diesel</th>\n",
       "      <th>fuel_electric</th>\n",
       "      <th>fuel_gasoline</th>\n",
       "      <th>fuel_lpg</th>\n",
       "      <th>type_Demonstration</th>\n",
       "      <th>type_Employee's car</th>\n",
       "      <th>type_New</th>\n",
       "      <th>type_Pre-registered</th>\n",
       "      <th>type_Used</th>\n",
       "    </tr>\n",
       "  </thead>\n",
       "  <tbody>\n",
       "    <tr>\n",
       "      <th>count</th>\n",
       "      <td>14990.000000</td>\n",
       "      <td>14990.000000</td>\n",
       "      <td>14990.000000</td>\n",
       "      <td>14990.000000</td>\n",
       "      <td>14990.000000</td>\n",
       "      <td>14990.000000</td>\n",
       "      <td>14990.000000</td>\n",
       "      <td>14990.000000</td>\n",
       "      <td>14990.000000</td>\n",
       "      <td>14990.000000</td>\n",
       "      <td>...</td>\n",
       "      <td>14990.000000</td>\n",
       "      <td>14990.000000</td>\n",
       "      <td>14990.000000</td>\n",
       "      <td>14990.000000</td>\n",
       "      <td>14990.000000</td>\n",
       "      <td>14990.000000</td>\n",
       "      <td>14990.000000</td>\n",
       "      <td>14990.000000</td>\n",
       "      <td>14990.000000</td>\n",
       "      <td>14990.000000</td>\n",
       "    </tr>\n",
       "    <tr>\n",
       "      <th>mean</th>\n",
       "      <td>1432.258843</td>\n",
       "      <td>88.231744</td>\n",
       "      <td>33894.105203</td>\n",
       "      <td>0.949767</td>\n",
       "      <td>0.080187</td>\n",
       "      <td>0.133422</td>\n",
       "      <td>0.126484</td>\n",
       "      <td>0.082188</td>\n",
       "      <td>0.859239</td>\n",
       "      <td>0.155704</td>\n",
       "      <td>...</td>\n",
       "      <td>0.030754</td>\n",
       "      <td>0.471781</td>\n",
       "      <td>0.000133</td>\n",
       "      <td>0.524149</td>\n",
       "      <td>0.003936</td>\n",
       "      <td>0.051634</td>\n",
       "      <td>0.067178</td>\n",
       "      <td>0.054236</td>\n",
       "      <td>0.090127</td>\n",
       "      <td>0.736825</td>\n",
       "    </tr>\n",
       "    <tr>\n",
       "      <th>std</th>\n",
       "      <td>271.764876</td>\n",
       "      <td>26.617304</td>\n",
       "      <td>37284.577857</td>\n",
       "      <td>0.218434</td>\n",
       "      <td>0.271591</td>\n",
       "      <td>0.340042</td>\n",
       "      <td>0.332405</td>\n",
       "      <td>0.274660</td>\n",
       "      <td>0.347786</td>\n",
       "      <td>0.362586</td>\n",
       "      <td>...</td>\n",
       "      <td>0.172656</td>\n",
       "      <td>0.499220</td>\n",
       "      <td>0.011550</td>\n",
       "      <td>0.499433</td>\n",
       "      <td>0.062616</td>\n",
       "      <td>0.221295</td>\n",
       "      <td>0.250339</td>\n",
       "      <td>0.226491</td>\n",
       "      <td>0.286373</td>\n",
       "      <td>0.440372</td>\n",
       "    </tr>\n",
       "    <tr>\n",
       "      <th>min</th>\n",
       "      <td>890.000000</td>\n",
       "      <td>40.000000</td>\n",
       "      <td>0.000000</td>\n",
       "      <td>0.000000</td>\n",
       "      <td>0.000000</td>\n",
       "      <td>0.000000</td>\n",
       "      <td>0.000000</td>\n",
       "      <td>0.000000</td>\n",
       "      <td>0.000000</td>\n",
       "      <td>0.000000</td>\n",
       "      <td>...</td>\n",
       "      <td>0.000000</td>\n",
       "      <td>0.000000</td>\n",
       "      <td>0.000000</td>\n",
       "      <td>0.000000</td>\n",
       "      <td>0.000000</td>\n",
       "      <td>0.000000</td>\n",
       "      <td>0.000000</td>\n",
       "      <td>0.000000</td>\n",
       "      <td>0.000000</td>\n",
       "      <td>0.000000</td>\n",
       "    </tr>\n",
       "    <tr>\n",
       "      <th>25%</th>\n",
       "      <td>1229.000000</td>\n",
       "      <td>66.000000</td>\n",
       "      <td>5000.000000</td>\n",
       "      <td>1.000000</td>\n",
       "      <td>0.000000</td>\n",
       "      <td>0.000000</td>\n",
       "      <td>0.000000</td>\n",
       "      <td>0.000000</td>\n",
       "      <td>1.000000</td>\n",
       "      <td>0.000000</td>\n",
       "      <td>...</td>\n",
       "      <td>0.000000</td>\n",
       "      <td>0.000000</td>\n",
       "      <td>0.000000</td>\n",
       "      <td>0.000000</td>\n",
       "      <td>0.000000</td>\n",
       "      <td>0.000000</td>\n",
       "      <td>0.000000</td>\n",
       "      <td>0.000000</td>\n",
       "      <td>0.000000</td>\n",
       "      <td>0.000000</td>\n",
       "    </tr>\n",
       "    <tr>\n",
       "      <th>50%</th>\n",
       "      <td>1461.000000</td>\n",
       "      <td>85.000000</td>\n",
       "      <td>22487.000000</td>\n",
       "      <td>1.000000</td>\n",
       "      <td>0.000000</td>\n",
       "      <td>0.000000</td>\n",
       "      <td>0.000000</td>\n",
       "      <td>0.000000</td>\n",
       "      <td>1.000000</td>\n",
       "      <td>0.000000</td>\n",
       "      <td>...</td>\n",
       "      <td>0.000000</td>\n",
       "      <td>0.000000</td>\n",
       "      <td>0.000000</td>\n",
       "      <td>1.000000</td>\n",
       "      <td>0.000000</td>\n",
       "      <td>0.000000</td>\n",
       "      <td>0.000000</td>\n",
       "      <td>0.000000</td>\n",
       "      <td>0.000000</td>\n",
       "      <td>1.000000</td>\n",
       "    </tr>\n",
       "    <tr>\n",
       "      <th>75%</th>\n",
       "      <td>1598.000000</td>\n",
       "      <td>100.000000</td>\n",
       "      <td>49264.500000</td>\n",
       "      <td>1.000000</td>\n",
       "      <td>0.000000</td>\n",
       "      <td>0.000000</td>\n",
       "      <td>0.000000</td>\n",
       "      <td>0.000000</td>\n",
       "      <td>1.000000</td>\n",
       "      <td>0.000000</td>\n",
       "      <td>...</td>\n",
       "      <td>0.000000</td>\n",
       "      <td>1.000000</td>\n",
       "      <td>0.000000</td>\n",
       "      <td>1.000000</td>\n",
       "      <td>0.000000</td>\n",
       "      <td>0.000000</td>\n",
       "      <td>0.000000</td>\n",
       "      <td>0.000000</td>\n",
       "      <td>0.000000</td>\n",
       "      <td>1.000000</td>\n",
       "    </tr>\n",
       "    <tr>\n",
       "      <th>max</th>\n",
       "      <td>2967.000000</td>\n",
       "      <td>294.000000</td>\n",
       "      <td>317000.000000</td>\n",
       "      <td>1.000000</td>\n",
       "      <td>1.000000</td>\n",
       "      <td>1.000000</td>\n",
       "      <td>1.000000</td>\n",
       "      <td>1.000000</td>\n",
       "      <td>1.000000</td>\n",
       "      <td>1.000000</td>\n",
       "      <td>...</td>\n",
       "      <td>1.000000</td>\n",
       "      <td>1.000000</td>\n",
       "      <td>1.000000</td>\n",
       "      <td>1.000000</td>\n",
       "      <td>1.000000</td>\n",
       "      <td>1.000000</td>\n",
       "      <td>1.000000</td>\n",
       "      <td>1.000000</td>\n",
       "      <td>1.000000</td>\n",
       "      <td>1.000000</td>\n",
       "    </tr>\n",
       "  </tbody>\n",
       "</table>\n",
       "<p>8 rows × 136 columns</p>\n",
       "</div>"
      ],
      "text/plain": [
       "       displacement            hp             km        ss_abs  \\\n",
       "count  14990.000000  14990.000000   14990.000000  14990.000000   \n",
       "mean    1432.258843     88.231744   33894.105203      0.949767   \n",
       "std      271.764876     26.617304   37284.577857      0.218434   \n",
       "min      890.000000     40.000000       0.000000      0.000000   \n",
       "25%     1229.000000     66.000000    5000.000000      1.000000   \n",
       "50%     1461.000000     85.000000   22487.000000      1.000000   \n",
       "75%     1598.000000    100.000000   49264.500000      1.000000   \n",
       "max     2967.000000    294.000000  317000.000000      1.000000   \n",
       "\n",
       "       ss_adaptive_cruise_control  ss_adaptive_headlights  ss_alarm_system  \\\n",
       "count                14990.000000            14990.000000     14990.000000   \n",
       "mean                     0.080187                0.133422         0.126484   \n",
       "std                      0.271591                0.340042         0.332405   \n",
       "min                      0.000000                0.000000         0.000000   \n",
       "25%                      0.000000                0.000000         0.000000   \n",
       "50%                      0.000000                0.000000         0.000000   \n",
       "75%                      0.000000                0.000000         0.000000   \n",
       "max                      1.000000                1.000000         1.000000   \n",
       "\n",
       "       ss_blind_spot_monitor  ss_central_door_lock  \\\n",
       "count           14990.000000          14990.000000   \n",
       "mean                0.082188              0.859239   \n",
       "std                 0.274660              0.347786   \n",
       "min                 0.000000              0.000000   \n",
       "25%                 0.000000              1.000000   \n",
       "50%                 0.000000              1.000000   \n",
       "75%                 0.000000              1.000000   \n",
       "max                 1.000000              1.000000   \n",
       "\n",
       "       ss_central_door_lock_with_remote_control  ...  \\\n",
       "count                              14990.000000  ...   \n",
       "mean                                   0.155704  ...   \n",
       "std                                    0.362586  ...   \n",
       "min                                    0.000000  ...   \n",
       "25%                                    0.000000  ...   \n",
       "50%                                    0.000000  ...   \n",
       "75%                                    0.000000  ...   \n",
       "max                                    1.000000  ...   \n",
       "\n",
       "       gearing_type_Semi-automatic   fuel_diesel  fuel_electric  \\\n",
       "count                 14990.000000  14990.000000   14990.000000   \n",
       "mean                      0.030754      0.471781       0.000133   \n",
       "std                       0.172656      0.499220       0.011550   \n",
       "min                       0.000000      0.000000       0.000000   \n",
       "25%                       0.000000      0.000000       0.000000   \n",
       "50%                       0.000000      0.000000       0.000000   \n",
       "75%                       0.000000      1.000000       0.000000   \n",
       "max                       1.000000      1.000000       1.000000   \n",
       "\n",
       "       fuel_gasoline      fuel_lpg  type_Demonstration  type_Employee's car  \\\n",
       "count   14990.000000  14990.000000        14990.000000         14990.000000   \n",
       "mean        0.524149      0.003936            0.051634             0.067178   \n",
       "std         0.499433      0.062616            0.221295             0.250339   \n",
       "min         0.000000      0.000000            0.000000             0.000000   \n",
       "25%         0.000000      0.000000            0.000000             0.000000   \n",
       "50%         1.000000      0.000000            0.000000             0.000000   \n",
       "75%         1.000000      0.000000            0.000000             0.000000   \n",
       "max         1.000000      1.000000            1.000000             1.000000   \n",
       "\n",
       "           type_New  type_Pre-registered     type_Used  \n",
       "count  14990.000000         14990.000000  14990.000000  \n",
       "mean       0.054236             0.090127      0.736825  \n",
       "std        0.226491             0.286373      0.440372  \n",
       "min        0.000000             0.000000      0.000000  \n",
       "25%        0.000000             0.000000      0.000000  \n",
       "50%        0.000000             0.000000      1.000000  \n",
       "75%        0.000000             0.000000      1.000000  \n",
       "max        1.000000             1.000000      1.000000  \n",
       "\n",
       "[8 rows x 136 columns]"
      ]
     },
     "execution_count": 88,
     "metadata": {},
     "output_type": "execute_result"
    }
   ],
   "source": [
    "df.describe()"
   ]
  },
  {
   "cell_type": "code",
   "execution_count": 89,
   "metadata": {},
   "outputs": [
    {
     "data": {
      "text/html": [
       "<div>\n",
       "<style scoped>\n",
       "    .dataframe tbody tr th:only-of-type {\n",
       "        vertical-align: middle;\n",
       "    }\n",
       "\n",
       "    .dataframe tbody tr th {\n",
       "        vertical-align: top;\n",
       "    }\n",
       "\n",
       "    .dataframe thead th {\n",
       "        text-align: right;\n",
       "    }\n",
       "</style>\n",
       "<table border=\"1\" class=\"dataframe\">\n",
       "  <thead>\n",
       "    <tr style=\"text-align: right;\">\n",
       "      <th></th>\n",
       "      <th>displacement</th>\n",
       "      <th>hp</th>\n",
       "      <th>km</th>\n",
       "      <th>ss_abs</th>\n",
       "      <th>ss_adaptive_cruise_control</th>\n",
       "      <th>ss_adaptive_headlights</th>\n",
       "      <th>ss_alarm_system</th>\n",
       "      <th>ss_blind_spot_monitor</th>\n",
       "      <th>ss_central_door_lock</th>\n",
       "      <th>ss_central_door_lock_with_remote_control</th>\n",
       "      <th>...</th>\n",
       "      <th>gearing_type_Semi-automatic</th>\n",
       "      <th>fuel_diesel</th>\n",
       "      <th>fuel_electric</th>\n",
       "      <th>fuel_gasoline</th>\n",
       "      <th>fuel_lpg</th>\n",
       "      <th>type_Demonstration</th>\n",
       "      <th>type_Employee's car</th>\n",
       "      <th>type_New</th>\n",
       "      <th>type_Pre-registered</th>\n",
       "      <th>type_Used</th>\n",
       "    </tr>\n",
       "  </thead>\n",
       "  <tbody>\n",
       "    <tr>\n",
       "      <th>displacement</th>\n",
       "      <td>1.000000</td>\n",
       "      <td>0.608069</td>\n",
       "      <td>0.306380</td>\n",
       "      <td>0.039455</td>\n",
       "      <td>0.219180</td>\n",
       "      <td>0.256791</td>\n",
       "      <td>0.075198</td>\n",
       "      <td>0.284346</td>\n",
       "      <td>0.008668</td>\n",
       "      <td>0.011990</td>\n",
       "      <td>...</td>\n",
       "      <td>0.101407</td>\n",
       "      <td>0.647354</td>\n",
       "      <td>-0.004512</td>\n",
       "      <td>-0.643471</td>\n",
       "      <td>-0.027935</td>\n",
       "      <td>-0.036014</td>\n",
       "      <td>-0.002039</td>\n",
       "      <td>-0.089162</td>\n",
       "      <td>-0.104255</td>\n",
       "      <td>0.132912</td>\n",
       "    </tr>\n",
       "    <tr>\n",
       "      <th>hp</th>\n",
       "      <td>0.608069</td>\n",
       "      <td>1.000000</td>\n",
       "      <td>0.013735</td>\n",
       "      <td>-0.025535</td>\n",
       "      <td>0.252995</td>\n",
       "      <td>0.331149</td>\n",
       "      <td>0.040451</td>\n",
       "      <td>0.433349</td>\n",
       "      <td>-0.026401</td>\n",
       "      <td>-0.048050</td>\n",
       "      <td>...</td>\n",
       "      <td>0.094190</td>\n",
       "      <td>0.111304</td>\n",
       "      <td>0.009755</td>\n",
       "      <td>-0.107138</td>\n",
       "      <td>-0.034652</td>\n",
       "      <td>0.111306</td>\n",
       "      <td>-0.016734</td>\n",
       "      <td>0.067898</td>\n",
       "      <td>-0.036446</td>\n",
       "      <td>-0.057641</td>\n",
       "    </tr>\n",
       "    <tr>\n",
       "      <th>km</th>\n",
       "      <td>0.306380</td>\n",
       "      <td>0.013735</td>\n",
       "      <td>1.000000</td>\n",
       "      <td>0.003092</td>\n",
       "      <td>0.046383</td>\n",
       "      <td>0.007789</td>\n",
       "      <td>0.106760</td>\n",
       "      <td>-0.018739</td>\n",
       "      <td>-0.015460</td>\n",
       "      <td>0.077596</td>\n",
       "      <td>...</td>\n",
       "      <td>0.032341</td>\n",
       "      <td>0.428175</td>\n",
       "      <td>0.002026</td>\n",
       "      <td>-0.433719</td>\n",
       "      <td>0.045312</td>\n",
       "      <td>-0.180433</td>\n",
       "      <td>-0.100492</td>\n",
       "      <td>-0.217220</td>\n",
       "      <td>-0.280735</td>\n",
       "      <td>0.442080</td>\n",
       "    </tr>\n",
       "    <tr>\n",
       "      <th>ss_abs</th>\n",
       "      <td>0.039455</td>\n",
       "      <td>-0.025535</td>\n",
       "      <td>0.003092</td>\n",
       "      <td>1.000000</td>\n",
       "      <td>0.043162</td>\n",
       "      <td>0.040839</td>\n",
       "      <td>-0.031936</td>\n",
       "      <td>0.046580</td>\n",
       "      <td>0.248538</td>\n",
       "      <td>0.070964</td>\n",
       "      <td>...</td>\n",
       "      <td>-0.042177</td>\n",
       "      <td>0.019120</td>\n",
       "      <td>-0.023786</td>\n",
       "      <td>-0.020374</td>\n",
       "      <td>0.014457</td>\n",
       "      <td>0.013637</td>\n",
       "      <td>0.021455</td>\n",
       "      <td>0.005178</td>\n",
       "      <td>0.030786</td>\n",
       "      <td>-0.041733</td>\n",
       "    </tr>\n",
       "    <tr>\n",
       "      <th>ss_adaptive_cruise_control</th>\n",
       "      <td>0.219180</td>\n",
       "      <td>0.252995</td>\n",
       "      <td>0.046383</td>\n",
       "      <td>0.043162</td>\n",
       "      <td>1.000000</td>\n",
       "      <td>0.202003</td>\n",
       "      <td>0.255668</td>\n",
       "      <td>0.316794</td>\n",
       "      <td>0.037572</td>\n",
       "      <td>0.104905</td>\n",
       "      <td>...</td>\n",
       "      <td>0.239071</td>\n",
       "      <td>0.092960</td>\n",
       "      <td>0.017857</td>\n",
       "      <td>-0.102319</td>\n",
       "      <td>0.071671</td>\n",
       "      <td>0.048770</td>\n",
       "      <td>0.031647</td>\n",
       "      <td>-0.020815</td>\n",
       "      <td>-0.008863</td>\n",
       "      <td>-0.026030</td>\n",
       "    </tr>\n",
       "    <tr>\n",
       "      <th>...</th>\n",
       "      <td>...</td>\n",
       "      <td>...</td>\n",
       "      <td>...</td>\n",
       "      <td>...</td>\n",
       "      <td>...</td>\n",
       "      <td>...</td>\n",
       "      <td>...</td>\n",
       "      <td>...</td>\n",
       "      <td>...</td>\n",
       "      <td>...</td>\n",
       "      <td>...</td>\n",
       "      <td>...</td>\n",
       "      <td>...</td>\n",
       "      <td>...</td>\n",
       "      <td>...</td>\n",
       "      <td>...</td>\n",
       "      <td>...</td>\n",
       "      <td>...</td>\n",
       "      <td>...</td>\n",
       "      <td>...</td>\n",
       "      <td>...</td>\n",
       "    </tr>\n",
       "    <tr>\n",
       "      <th>type_Demonstration</th>\n",
       "      <td>-0.036014</td>\n",
       "      <td>0.111306</td>\n",
       "      <td>-0.180433</td>\n",
       "      <td>0.013637</td>\n",
       "      <td>0.048770</td>\n",
       "      <td>0.043205</td>\n",
       "      <td>-0.058861</td>\n",
       "      <td>0.106895</td>\n",
       "      <td>0.031162</td>\n",
       "      <td>-0.052810</td>\n",
       "      <td>...</td>\n",
       "      <td>-0.025849</td>\n",
       "      <td>-0.123895</td>\n",
       "      <td>-0.002695</td>\n",
       "      <td>0.125743</td>\n",
       "      <td>-0.014668</td>\n",
       "      <td>1.000000</td>\n",
       "      <td>-0.062618</td>\n",
       "      <td>-0.055877</td>\n",
       "      <td>-0.073438</td>\n",
       "      <td>-0.390428</td>\n",
       "    </tr>\n",
       "    <tr>\n",
       "      <th>type_Employee's car</th>\n",
       "      <td>-0.002039</td>\n",
       "      <td>-0.016734</td>\n",
       "      <td>-0.100492</td>\n",
       "      <td>0.021455</td>\n",
       "      <td>0.031647</td>\n",
       "      <td>0.022449</td>\n",
       "      <td>-0.017133</td>\n",
       "      <td>0.013814</td>\n",
       "      <td>0.051146</td>\n",
       "      <td>-0.007933</td>\n",
       "      <td>...</td>\n",
       "      <td>-0.018475</td>\n",
       "      <td>0.003158</td>\n",
       "      <td>-0.003100</td>\n",
       "      <td>-0.002038</td>\n",
       "      <td>-0.008357</td>\n",
       "      <td>-0.062618</td>\n",
       "      <td>1.000000</td>\n",
       "      <td>-0.064264</td>\n",
       "      <td>-0.084460</td>\n",
       "      <td>-0.449029</td>\n",
       "    </tr>\n",
       "    <tr>\n",
       "      <th>type_New</th>\n",
       "      <td>-0.089162</td>\n",
       "      <td>0.067898</td>\n",
       "      <td>-0.217220</td>\n",
       "      <td>0.005178</td>\n",
       "      <td>-0.020815</td>\n",
       "      <td>0.028177</td>\n",
       "      <td>-0.024663</td>\n",
       "      <td>0.051672</td>\n",
       "      <td>0.003759</td>\n",
       "      <td>-0.055720</td>\n",
       "      <td>...</td>\n",
       "      <td>-0.017066</td>\n",
       "      <td>-0.163772</td>\n",
       "      <td>-0.002766</td>\n",
       "      <td>0.164474</td>\n",
       "      <td>-0.005645</td>\n",
       "      <td>-0.055877</td>\n",
       "      <td>-0.064264</td>\n",
       "      <td>1.000000</td>\n",
       "      <td>-0.075368</td>\n",
       "      <td>-0.400694</td>\n",
       "    </tr>\n",
       "    <tr>\n",
       "      <th>type_Pre-registered</th>\n",
       "      <td>-0.104255</td>\n",
       "      <td>-0.036446</td>\n",
       "      <td>-0.280735</td>\n",
       "      <td>0.030786</td>\n",
       "      <td>-0.008863</td>\n",
       "      <td>-0.019357</td>\n",
       "      <td>-0.019540</td>\n",
       "      <td>0.027960</td>\n",
       "      <td>0.066428</td>\n",
       "      <td>-0.018862</td>\n",
       "      <td>...</td>\n",
       "      <td>-0.033124</td>\n",
       "      <td>-0.137841</td>\n",
       "      <td>-0.003636</td>\n",
       "      <td>0.136149</td>\n",
       "      <td>0.013701</td>\n",
       "      <td>-0.073438</td>\n",
       "      <td>-0.084460</td>\n",
       "      <td>-0.075368</td>\n",
       "      <td>1.000000</td>\n",
       "      <td>-0.526618</td>\n",
       "    </tr>\n",
       "    <tr>\n",
       "      <th>type_Used</th>\n",
       "      <td>0.132912</td>\n",
       "      <td>-0.057641</td>\n",
       "      <td>0.442080</td>\n",
       "      <td>-0.041733</td>\n",
       "      <td>-0.026030</td>\n",
       "      <td>-0.036377</td>\n",
       "      <td>0.064710</td>\n",
       "      <td>-0.106328</td>\n",
       "      <td>-0.089866</td>\n",
       "      <td>0.071971</td>\n",
       "      <td>...</td>\n",
       "      <td>0.053809</td>\n",
       "      <td>0.234333</td>\n",
       "      <td>0.006904</td>\n",
       "      <td>-0.235159</td>\n",
       "      <td>0.006115</td>\n",
       "      <td>-0.390428</td>\n",
       "      <td>-0.449029</td>\n",
       "      <td>-0.400694</td>\n",
       "      <td>-0.526618</td>\n",
       "      <td>1.000000</td>\n",
       "    </tr>\n",
       "  </tbody>\n",
       "</table>\n",
       "<p>136 rows × 136 columns</p>\n",
       "</div>"
      ],
      "text/plain": [
       "                            displacement        hp        km    ss_abs  \\\n",
       "displacement                    1.000000  0.608069  0.306380  0.039455   \n",
       "hp                              0.608069  1.000000  0.013735 -0.025535   \n",
       "km                              0.306380  0.013735  1.000000  0.003092   \n",
       "ss_abs                          0.039455 -0.025535  0.003092  1.000000   \n",
       "ss_adaptive_cruise_control      0.219180  0.252995  0.046383  0.043162   \n",
       "...                                  ...       ...       ...       ...   \n",
       "type_Demonstration             -0.036014  0.111306 -0.180433  0.013637   \n",
       "type_Employee's car            -0.002039 -0.016734 -0.100492  0.021455   \n",
       "type_New                       -0.089162  0.067898 -0.217220  0.005178   \n",
       "type_Pre-registered            -0.104255 -0.036446 -0.280735  0.030786   \n",
       "type_Used                       0.132912 -0.057641  0.442080 -0.041733   \n",
       "\n",
       "                            ss_adaptive_cruise_control  \\\n",
       "displacement                                  0.219180   \n",
       "hp                                            0.252995   \n",
       "km                                            0.046383   \n",
       "ss_abs                                        0.043162   \n",
       "ss_adaptive_cruise_control                    1.000000   \n",
       "...                                                ...   \n",
       "type_Demonstration                            0.048770   \n",
       "type_Employee's car                           0.031647   \n",
       "type_New                                     -0.020815   \n",
       "type_Pre-registered                          -0.008863   \n",
       "type_Used                                    -0.026030   \n",
       "\n",
       "                            ss_adaptive_headlights  ss_alarm_system  \\\n",
       "displacement                              0.256791         0.075198   \n",
       "hp                                        0.331149         0.040451   \n",
       "km                                        0.007789         0.106760   \n",
       "ss_abs                                    0.040839        -0.031936   \n",
       "ss_adaptive_cruise_control                0.202003         0.255668   \n",
       "...                                            ...              ...   \n",
       "type_Demonstration                        0.043205        -0.058861   \n",
       "type_Employee's car                       0.022449        -0.017133   \n",
       "type_New                                  0.028177        -0.024663   \n",
       "type_Pre-registered                      -0.019357        -0.019540   \n",
       "type_Used                                -0.036377         0.064710   \n",
       "\n",
       "                            ss_blind_spot_monitor  ss_central_door_lock  \\\n",
       "displacement                             0.284346              0.008668   \n",
       "hp                                       0.433349             -0.026401   \n",
       "km                                      -0.018739             -0.015460   \n",
       "ss_abs                                   0.046580              0.248538   \n",
       "ss_adaptive_cruise_control               0.316794              0.037572   \n",
       "...                                           ...                   ...   \n",
       "type_Demonstration                       0.106895              0.031162   \n",
       "type_Employee's car                      0.013814              0.051146   \n",
       "type_New                                 0.051672              0.003759   \n",
       "type_Pre-registered                      0.027960              0.066428   \n",
       "type_Used                               -0.106328             -0.089866   \n",
       "\n",
       "                            ss_central_door_lock_with_remote_control  ...  \\\n",
       "displacement                                                0.011990  ...   \n",
       "hp                                                         -0.048050  ...   \n",
       "km                                                          0.077596  ...   \n",
       "ss_abs                                                      0.070964  ...   \n",
       "ss_adaptive_cruise_control                                  0.104905  ...   \n",
       "...                                                              ...  ...   \n",
       "type_Demonstration                                         -0.052810  ...   \n",
       "type_Employee's car                                        -0.007933  ...   \n",
       "type_New                                                   -0.055720  ...   \n",
       "type_Pre-registered                                        -0.018862  ...   \n",
       "type_Used                                                   0.071971  ...   \n",
       "\n",
       "                            gearing_type_Semi-automatic  fuel_diesel  \\\n",
       "displacement                                   0.101407     0.647354   \n",
       "hp                                             0.094190     0.111304   \n",
       "km                                             0.032341     0.428175   \n",
       "ss_abs                                        -0.042177     0.019120   \n",
       "ss_adaptive_cruise_control                     0.239071     0.092960   \n",
       "...                                                 ...          ...   \n",
       "type_Demonstration                            -0.025849    -0.123895   \n",
       "type_Employee's car                           -0.018475     0.003158   \n",
       "type_New                                      -0.017066    -0.163772   \n",
       "type_Pre-registered                           -0.033124    -0.137841   \n",
       "type_Used                                      0.053809     0.234333   \n",
       "\n",
       "                            fuel_electric  fuel_gasoline  fuel_lpg  \\\n",
       "displacement                    -0.004512      -0.643471 -0.027935   \n",
       "hp                               0.009755      -0.107138 -0.034652   \n",
       "km                               0.002026      -0.433719  0.045312   \n",
       "ss_abs                          -0.023786      -0.020374  0.014457   \n",
       "ss_adaptive_cruise_control       0.017857      -0.102319  0.071671   \n",
       "...                                   ...            ...       ...   \n",
       "type_Demonstration              -0.002695       0.125743 -0.014668   \n",
       "type_Employee's car             -0.003100      -0.002038 -0.008357   \n",
       "type_New                        -0.002766       0.164474 -0.005645   \n",
       "type_Pre-registered             -0.003636       0.136149  0.013701   \n",
       "type_Used                        0.006904      -0.235159  0.006115   \n",
       "\n",
       "                            type_Demonstration  type_Employee's car  type_New  \\\n",
       "displacement                         -0.036014            -0.002039 -0.089162   \n",
       "hp                                    0.111306            -0.016734  0.067898   \n",
       "km                                   -0.180433            -0.100492 -0.217220   \n",
       "ss_abs                                0.013637             0.021455  0.005178   \n",
       "ss_adaptive_cruise_control            0.048770             0.031647 -0.020815   \n",
       "...                                        ...                  ...       ...   \n",
       "type_Demonstration                    1.000000            -0.062618 -0.055877   \n",
       "type_Employee's car                  -0.062618             1.000000 -0.064264   \n",
       "type_New                             -0.055877            -0.064264  1.000000   \n",
       "type_Pre-registered                  -0.073438            -0.084460 -0.075368   \n",
       "type_Used                            -0.390428            -0.449029 -0.400694   \n",
       "\n",
       "                            type_Pre-registered  type_Used  \n",
       "displacement                          -0.104255   0.132912  \n",
       "hp                                    -0.036446  -0.057641  \n",
       "km                                    -0.280735   0.442080  \n",
       "ss_abs                                 0.030786  -0.041733  \n",
       "ss_adaptive_cruise_control            -0.008863  -0.026030  \n",
       "...                                         ...        ...  \n",
       "type_Demonstration                    -0.073438  -0.390428  \n",
       "type_Employee's car                   -0.084460  -0.449029  \n",
       "type_New                              -0.075368  -0.400694  \n",
       "type_Pre-registered                    1.000000  -0.526618  \n",
       "type_Used                             -0.526618   1.000000  \n",
       "\n",
       "[136 rows x 136 columns]"
      ]
     },
     "execution_count": 89,
     "metadata": {},
     "output_type": "execute_result"
    }
   ],
   "source": [
    "df.corr()"
   ]
  },
  {
   "cell_type": "code",
   "execution_count": 90,
   "metadata": {},
   "outputs": [
    {
     "data": {
      "text/plain": [
       "<matplotlib.axes._subplots.AxesSubplot at 0x1b7beacb848>"
      ]
     },
     "execution_count": 90,
     "metadata": {},
     "output_type": "execute_result"
    },
    {
     "data": {
      "image/png": "[encoded data removed]",
      "text/plain": [
       "<Figure size 576x396 with 1 Axes>"
      ]
     },
     "metadata": {},
     "output_type": "display_data"
    }
   ],
   "source": [
    "df.corr()[\"price\"].sort_values().head(10).plot.barh()"
   ]
  },
  {
   "cell_type": "code",
   "execution_count": 91,
   "metadata": {},
   "outputs": [
    {
     "data": {
      "text/plain": [
       "age                           -0.458475\n",
       "gearing_type_Manual           -0.443354\n",
       "km                            -0.387911\n",
       "model_Corsa                   -0.379704\n",
       "type_Used                     -0.333761\n",
       "model_Clio                    -0.289587\n",
       "make_Opel                     -0.232633\n",
       "body_Compact                  -0.204352\n",
       "model_Astra                   -0.125644\n",
       "ent_media_on_board_computer   -0.091703\n",
       "Name: price, dtype: float64"
      ]
     },
     "execution_count": 91,
     "metadata": {},
     "output_type": "execute_result"
    }
   ],
   "source": [
    "df.corr()[\"price\"].sort_values().head(10)"
   ]
  },
  {
   "cell_type": "code",
   "execution_count": 92,
   "metadata": {},
   "outputs": [],
   "source": [
    "col_list = list(df.columns)"
   ]
  },
  {
   "cell_type": "markdown",
   "metadata": {},
   "source": [
    "# Select columns with a correlation > 0.5\n",
    "rel_vars = corr.SalePrice[(corr.SalePrice > 0.5)]\n",
    "rel_cols = list(rel_vars.index.values)\n",
    "\n",
    "corr2 = train[rel_cols].corr()\n",
    "plt.figure(figsize=(8,8))\n",
    "hm = sns.heatmap(corr2, annot=True, annot_kws={'size':10})\n",
    "plt.yticks(rotation=0, size=10)\n",
    "plt.xticks(rotation=90, size=10)\n",
    "plt.show()\n"
   ]
  },
  {
   "cell_type": "code",
   "execution_count": 93,
   "metadata": {},
   "outputs": [
    {
     "data": {
      "text/plain": [
       "<matplotlib.axes._subplots.AxesSubplot at 0x1b7cd23b688>"
      ]
     },
     "execution_count": 93,
     "metadata": {},
     "output_type": "execute_result"
    },
    {
     "data": {
      "image/png": "[encoded data removed]",
      "text/plain": [
       "<Figure size 576x396 with 1 Axes>"
      ]
     },
     "metadata": {},
     "output_type": "display_data"
    }
   ],
   "source": [
    "sns.distplot(df[\"price\"])"
   ]
  },
  {
   "cell_type": "code",
   "execution_count": 94,
   "metadata": {},
   "outputs": [
    {
     "data": {
      "text/plain": [
       "74600"
      ]
     },
     "execution_count": 94,
     "metadata": {},
     "output_type": "execute_result"
    }
   ],
   "source": [
    "df[\"price\"].max()"
   ]
  },
  {
   "cell_type": "code",
   "execution_count": 95,
   "metadata": {},
   "outputs": [
    {
     "data": {
      "text/plain": [
       "<matplotlib.axes._subplots.AxesSubplot at 0x1b7cd243ac8>"
      ]
     },
     "execution_count": 95,
     "metadata": {},
     "output_type": "execute_result"
    },
    {
     "data": {
      "image/png": "[encoded data removed]",
      "text/plain": [
       "<Figure size 576x396 with 1 Axes>"
      ]
     },
     "metadata": {},
     "output_type": "display_data"
    }
   ],
   "source": [
    "sns.boxplot(df.price, orient=\"v\")"
   ]
  },
  {
   "cell_type": "markdown",
   "metadata": {
    "id": "QsEUUAAKmqZN"
   },
   "source": [
    "## 2. Data Pre-Processing"
   ]
  },
  {
   "cell_type": "markdown",
   "metadata": {
    "id": "QtVkM6f2mqZN"
   },
   "source": [
    "As you know, the data set must be edited before proceeding to the implementation of the model. As the last step before model fitting, you need to spilit the data set as train and test. Then, you should train the model with train data and evaluate the performance of the model on the test data. You can use the train and test data you have created for all algorithms.\n",
    "\n",
    "You must also drop your target variable, the column you are trying to predict."
   ]
  },
  {
   "cell_type": "markdown",
   "metadata": {
    "id": "K7d_92iemqZN"
   },
   "source": [
    "You can use many [performance metrics for regression](https://medium.com/analytics-vidhya/evaluation-metrics-for-regression-problems-343c4923d922) to measure the performance of the regression model you train. You can define a function to view different metric results together.\n",
    "\n",
    "You can also use the [cross validation](https://towardsdatascience.com/cross-validation-explained-evaluating-estimator-performance-e51e5430ff85) method to measure the estimator performance. Cross validation uses different data samples from your test set and calculates the accuracy score for each data sample. You can calculate the final performance of your estimator by averaging these scores."
   ]
  },
  {
   "cell_type": "markdown",
   "metadata": {
    "id": "-3gMQ3utmqZN"
   },
   "source": [
    "### 4. Random Forest"
   ]
  },
  {
   "cell_type": "code",
   "execution_count": 96,
   "metadata": {},
   "outputs": [],
   "source": [
    "from sklearn.model_selection import train_test_split"
   ]
  },
  {
   "cell_type": "code",
   "execution_count": 97,
   "metadata": {},
   "outputs": [],
   "source": [
    "from sklearn.metrics import mean_absolute_error\n",
    "from sklearn.metrics import mean_squared_error"
   ]
  },
  {
   "cell_type": "code",
   "execution_count": 98,
   "metadata": {},
   "outputs": [],
   "source": [
    "def eval_metrics(actual, pred):\n",
    "    rmse = np.sqrt(mean_squared_error(actual, pred))\n",
    "    mae = mean_absolute_error(actual, pred)\n",
    "    mse = mean_squared_error(actual, pred)\n",
    "    score = r2_score(actual, pred)\n",
    "    return print(\"r2_score:\", score, \"\\n\",\"mae:\", mae, \"\\n\",\"mse:\",mse, \"\\n\",\"rmse:\",rmse)\n"
   ]
  },
  {
   "cell_type": "code",
   "execution_count": 99,
   "metadata": {},
   "outputs": [
    {
     "name": "stdout",
     "output_type": "stream",
     "text": [
      "r2_score: 0.9578282575256802 \n",
      " mae: 858.7721184561827 \n",
      " mse: 2137503.164885719 \n",
      " rmse: 1462.020234089022\n"
     ]
    }
   ],
   "source": [
    "X= df.drop(\"price\", axis =1)\n",
    "y= df[\"price\"]\n",
    "X_train, X_test, y_train, y_test = train_test_split(df.drop('price',axis=1),\n",
    "                                                    df['price'], test_size=0.3,\n",
    "                                                    random_state=42)\n",
    "\n",
    "from sklearn.ensemble import RandomForestRegressor\n",
    "forest = RandomForestRegressor(n_estimators=300, random_state=10)\n",
    "forest.fit(X_train, y_train)\n",
    "y_pred = forest.predict(X_test)\n",
    "# Score model\n",
    "\n",
    "eval_metrics(y_test, y_pred)"
   ]
  },
  {
   "cell_type": "code",
   "execution_count": 100,
   "metadata": {},
   "outputs": [],
   "source": [
    "# Other Values"
   ]
  },
  {
   "cell_type": "code",
   "execution_count": 101,
   "metadata": {},
   "outputs": [
    {
     "name": "stdout",
     "output_type": "stream",
     "text": [
      "r2_score: 0.9574139893131586 \n",
      " mae: 860.5095903953977 \n",
      " mse: 2158500.6281969803 \n",
      " rmse: 1469.1836604716852\n"
     ]
    }
   ],
   "source": [
    "forest = RandomForestRegressor(n_estimators=200, random_state=101)\n",
    "forest.fit(X_train, y_train)\n",
    "y_pred = forest.predict(X_test)\n",
    "# Score model\n",
    "\n",
    "eval_metrics(y_test, y_pred)"
   ]
  },
  {
   "cell_type": "code",
   "execution_count": 102,
   "metadata": {},
   "outputs": [
    {
     "name": "stdout",
     "output_type": "stream",
     "text": [
      "r2_score: 0.8918333328983904 \n",
      " mae: 1672.9305977887436 \n",
      " mse: 5482500.359230406 \n",
      " rmse: 2341.473971503934\n"
     ]
    }
   ],
   "source": [
    "### With Linear Reg\n",
    "from sklearn.model_selection import train_test_split\n",
    "from sklearn.linear_model import LinearRegression\n",
    "X= df.drop(\"price\", axis =1)\n",
    "y= df[\"price\"]\n",
    "X_train, X_test, y_train, y_test = train_test_split(df.drop('price',axis=1),\n",
    "                                                    df['price'], test_size=0.3,\n",
    "                                                    random_state=42)\n",
    "lm =  LinearRegression()\n",
    "lm.fit(X_train, y_train)\n",
    "y_pred = lm.predict(X_test)\n",
    "eval_metrics(y_test, y_pred)"
   ]
  },
  {
   "cell_type": "markdown",
   "metadata": {},
   "source": []
  },
  {
   "cell_type": "code",
   "execution_count": 103,
   "metadata": {},
   "outputs": [
    {
     "name": "stdout",
     "output_type": "stream",
     "text": [
      "score_model_train: 0.9934901157460312\n"
     ]
    }
   ],
   "source": [
    "print(\"score_model_train:\",forest.score(X_train, y_train))"
   ]
  },
  {
   "cell_type": "code",
   "execution_count": 104,
   "metadata": {},
   "outputs": [
    {
     "data": {
      "text/plain": [
       "0.9513355993027982"
      ]
     },
     "execution_count": 104,
     "metadata": {},
     "output_type": "execute_result"
    }
   ],
   "source": [
    "from sklearn.model_selection import cross_val_score\n",
    "cv_scores = cross_val_score(estimator = forest, X=X_train, y=y_train, cv=10)\n",
    "cv_scores.mean()"
   ]
  },
  {
   "cell_type": "code",
   "execution_count": 105,
   "metadata": {},
   "outputs": [
    {
     "data": {
      "text/plain": [
       "0.9574139893131586"
      ]
     },
     "execution_count": 105,
     "metadata": {},
     "output_type": "execute_result"
    }
   ],
   "source": [
    "forest.score(X_test, y_test)"
   ]
  },
  {
   "cell_type": "code",
   "execution_count": 106,
   "metadata": {},
   "outputs": [
    {
     "name": "stdout",
     "output_type": "stream",
     "text": [
      "r2_score: 0.9586120975275217 \n",
      " mae: 847.815948936359 \n",
      " mse: 2088197.4751477805 \n",
      " rmse: 1445.0596787495597\n"
     ]
    }
   ],
   "source": [
    "X= df.drop(\"price\", axis =1)\n",
    "y= df[\"price\"]\n",
    "X_train, X_test, y_train, y_test = train_test_split(df.drop('price',axis=1),\n",
    "                                                    df['price'], test_size=0.25,\n",
    "                                                    random_state=42)\n",
    "\n",
    "from sklearn.ensemble import RandomForestRegressor\n",
    "forest = RandomForestRegressor(n_estimators=1000, random_state=10)\n",
    "forest.fit(X_train, y_train)\n",
    "y_pred = forest.predict(X_test)\n",
    "# Score model\n",
    "\n",
    "eval_metrics(y_test, y_pred)"
   ]
  },
  {
   "cell_type": "code",
   "execution_count": 107,
   "metadata": {},
   "outputs": [
    {
     "data": {
      "image/png": "[encoded data removed]",
      "text/plain": [
       "<Figure size 576x576 with 2 Axes>"
      ]
     },
     "metadata": {},
     "output_type": "display_data"
    }
   ],
   "source": [
    "corr = X_train.corr()\n",
    "plt.figure(figsize=(8,8))\n",
    "sns.heatmap(corr)\n",
    "plt.yticks(rotation=0, size=7)\n",
    "plt.xticks(rotation=90, size=7)\n",
    "plt.show()"
   ]
  },
  {
   "cell_type": "code",
   "execution_count": null,
   "metadata": {},
   "outputs": [],
   "source": []
  },
  {
   "cell_type": "code",
   "execution_count": null,
   "metadata": {},
   "outputs": [],
   "source": [
    "from sklearn.metrics import mean_absolute_error\n",
    "from sklearn.metrics import mean_squared_error\n",
    "print('Mean Absolute Error(MAE):',mean_absolute_error(y_test, y_pred))\n",
    "print('Mean Square Error(MSE):',mean_squared_error(y_test, y_pred))\n",
    "print('Root Mean Square Error(RMSE):',np.sqrt(mean_squared_error(y_test, y_pred)))\n",
    "# Score model\n",
    "forest.score(X_test, y_test)\n",
    "eval_metrics(y_test, y_pred)"
   ]
  },
  {
   "cell_type": "code",
   "execution_count": 109,
   "metadata": {},
   "outputs": [
    {
     "data": {
      "image/png": "[encoded data removed]",
      "text/plain": [
       "<Figure size 864x576 with 1 Axes>"
      ]
     },
     "metadata": {},
     "output_type": "display_data"
    }
   ],
   "source": [
    "# Predict new result\n",
    "y_pred = forest.predict(X_test)\n",
    "# Plot y_test vs y_pred\n",
    "plt.figure(figsize=(12,8))\n",
    "plt.plot(y_test, color='red')\n",
    "plt.plot(y_pred, color='blue')\n",
    "plt.show()"
   ]
  },
  {
   "cell_type": "code",
   "execution_count": 110,
   "metadata": {},
   "outputs": [],
   "source": [
    "my_dict = { 'Actual': y_test, 'Pred': y_pred }\n",
    "compare = pd.DataFrame(my_dict)"
   ]
  },
  {
   "cell_type": "code",
   "execution_count": 111,
   "metadata": {},
   "outputs": [
    {
     "data": {
      "text/html": [
       "<div>\n",
       "<style scoped>\n",
       "    .dataframe tbody tr th:only-of-type {\n",
       "        vertical-align: middle;\n",
       "    }\n",
       "\n",
       "    .dataframe tbody tr th {\n",
       "        vertical-align: top;\n",
       "    }\n",
       "\n",
       "    .dataframe thead th {\n",
       "        text-align: right;\n",
       "    }\n",
       "</style>\n",
       "<table border=\"1\" class=\"dataframe\">\n",
       "  <thead>\n",
       "    <tr style=\"text-align: right;\">\n",
       "      <th></th>\n",
       "      <th>Actual</th>\n",
       "      <th>Pred</th>\n",
       "    </tr>\n",
       "  </thead>\n",
       "  <tbody>\n",
       "    <tr>\n",
       "      <th>4283</th>\n",
       "      <td>17900</td>\n",
       "      <td>18770.614000</td>\n",
       "    </tr>\n",
       "    <tr>\n",
       "      <th>12141</th>\n",
       "      <td>20980</td>\n",
       "      <td>19902.455000</td>\n",
       "    </tr>\n",
       "    <tr>\n",
       "      <th>6497</th>\n",
       "      <td>10900</td>\n",
       "      <td>10339.964000</td>\n",
       "    </tr>\n",
       "    <tr>\n",
       "      <th>1652</th>\n",
       "      <td>21950</td>\n",
       "      <td>21193.606000</td>\n",
       "    </tr>\n",
       "    <tr>\n",
       "      <th>6550</th>\n",
       "      <td>10990</td>\n",
       "      <td>10997.070000</td>\n",
       "    </tr>\n",
       "    <tr>\n",
       "      <th>9255</th>\n",
       "      <td>8490</td>\n",
       "      <td>8926.330000</td>\n",
       "    </tr>\n",
       "    <tr>\n",
       "      <th>6782</th>\n",
       "      <td>12990</td>\n",
       "      <td>11343.239000</td>\n",
       "    </tr>\n",
       "    <tr>\n",
       "      <th>10582</th>\n",
       "      <td>16450</td>\n",
       "      <td>15037.940333</td>\n",
       "    </tr>\n",
       "    <tr>\n",
       "      <th>2749</th>\n",
       "      <td>17900</td>\n",
       "      <td>17104.922853</td>\n",
       "    </tr>\n",
       "    <tr>\n",
       "      <th>6069</th>\n",
       "      <td>9490</td>\n",
       "      <td>10180.931478</td>\n",
       "    </tr>\n",
       "  </tbody>\n",
       "</table>\n",
       "</div>"
      ],
      "text/plain": [
       "       Actual          Pred\n",
       "4283    17900  18770.614000\n",
       "12141   20980  19902.455000\n",
       "6497    10900  10339.964000\n",
       "1652    21950  21193.606000\n",
       "6550    10990  10997.070000\n",
       "9255     8490   8926.330000\n",
       "6782    12990  11343.239000\n",
       "10582   16450  15037.940333\n",
       "2749    17900  17104.922853\n",
       "6069     9490  10180.931478"
      ]
     },
     "execution_count": 111,
     "metadata": {},
     "output_type": "execute_result"
    }
   ],
   "source": [
    "compare.sample(10)"
   ]
  },
  {
   "cell_type": "code",
   "execution_count": 112,
   "metadata": {},
   "outputs": [
    {
     "data": {
      "text/plain": [
       "<matplotlib.collections.PathCollection at 0x1b7f1d47708>"
      ]
     },
     "execution_count": 112,
     "metadata": {},
     "output_type": "execute_result"
    },
    {
     "data": {
      "image/png": "[encoded data removed]",
      "text/plain": [
       "<Figure size 576x396 with 1 Axes>"
      ]
     },
     "metadata": {},
     "output_type": "display_data"
    }
   ],
   "source": [
    "plt.scatter(y_test, y_pred) "
   ]
  },
  {
   "cell_type": "code",
   "execution_count": 113,
   "metadata": {},
   "outputs": [
    {
     "ename": "NameError",
     "evalue": "name 'regressor' is not defined",
     "output_type": "error",
     "traceback": [
      "\u001b[1;31m---------------------------------------------------------------------------\u001b[0m",
      "\u001b[1;31mNameError\u001b[0m                                 Traceback (most recent call last)",
      "\u001b[1;32m<ipython-input-113-1a6372b76ac9>\u001b[0m in \u001b[0;36m<module>\u001b[1;34m\u001b[0m\n\u001b[0;32m      1\u001b[0m \u001b[1;31m# Pediction library\u001b[0m\u001b[1;33m\u001b[0m\u001b[1;33m\u001b[0m\u001b[1;33m\u001b[0m\u001b[0m\n\u001b[0;32m      2\u001b[0m \u001b[1;32mfrom\u001b[0m \u001b[0myellowbrick\u001b[0m\u001b[1;33m.\u001b[0m\u001b[0mregressor\u001b[0m \u001b[1;32mimport\u001b[0m \u001b[0mPredictionError\u001b[0m\u001b[1;33m\u001b[0m\u001b[1;33m\u001b[0m\u001b[0m\n\u001b[1;32m----> 3\u001b[1;33m \u001b[0mvisualizer\u001b[0m \u001b[1;33m=\u001b[0m \u001b[0mPredictionError\u001b[0m\u001b[1;33m(\u001b[0m\u001b[0mregressor\u001b[0m\u001b[1;33m)\u001b[0m\u001b[1;33m\u001b[0m\u001b[1;33m\u001b[0m\u001b[0m\n\u001b[0m\u001b[0;32m      4\u001b[0m \u001b[0mvisualizer\u001b[0m\u001b[1;33m.\u001b[0m\u001b[0mfit\u001b[0m\u001b[1;33m(\u001b[0m\u001b[0mX_train\u001b[0m\u001b[1;33m,\u001b[0m \u001b[0my_train\u001b[0m\u001b[1;33m)\u001b[0m  \u001b[1;31m# Fit the training data to the visualizer\u001b[0m\u001b[1;33m\u001b[0m\u001b[1;33m\u001b[0m\u001b[0m\n\u001b[0;32m      5\u001b[0m \u001b[0mvisualizer\u001b[0m\u001b[1;33m.\u001b[0m\u001b[0mscore\u001b[0m\u001b[1;33m(\u001b[0m\u001b[0mX_test\u001b[0m\u001b[1;33m,\u001b[0m \u001b[0my_test\u001b[0m\u001b[1;33m)\u001b[0m  \u001b[1;31m# Evaluate the model on the test data\u001b[0m\u001b[1;33m\u001b[0m\u001b[1;33m\u001b[0m\u001b[0m\n",
      "\u001b[1;31mNameError\u001b[0m: name 'regressor' is not defined"
     ]
    }
   ],
   "source": [
    "# Pediction library\n",
    "from yellowbrick.regressor import PredictionError\n",
    "visualizer = PredictionError(regressor)\n",
    "visualizer.fit(X_train, y_train)  # Fit the training data to the visualizer\n",
    "visualizer.score(X_test, y_test)  # Evaluate the model on the test data\n",
    "visualizer.show()"
   ]
  },
  {
   "cell_type": "code",
   "execution_count": null,
   "metadata": {},
   "outputs": [],
   "source": []
  },
  {
   "cell_type": "code",
   "execution_count": null,
   "metadata": {},
   "outputs": [],
   "source": []
  },
  {
   "cell_type": "code",
   "execution_count": null,
   "metadata": {},
   "outputs": [],
   "source": [
    "# Select columns with a correlation > 0.5\n",
    "rel_vars = corr.price[(corr.price > 0.5)]\n",
    "rel_cols = list(rel_vars.index.values)\n",
    "\n",
    "corr2 = train[rel_cols].corr()\n",
    "plt.figure(figsize=(8,8))\n",
    "hm = sns.heatmap(corr2, annot=True, annot_kws={'size':10})\n",
    "plt.yticks(rotation=0, size=10)\n",
    "plt.xticks(rotation=90, size=10)\n",
    "plt.show()\n"
   ]
  },
  {
   "cell_type": "code",
   "execution_count": null,
   "metadata": {},
   "outputs": [],
   "source": []
  },
  {
   "cell_type": "code",
   "execution_count": null,
   "metadata": {},
   "outputs": [],
   "source": []
  },
  {
   "cell_type": "code",
   "execution_count": null,
   "metadata": {
    "scrolled": true
   },
   "outputs": [],
   "source": [
    "X_train.shape"
   ]
  },
  {
   "cell_type": "code",
   "execution_count": null,
   "metadata": {},
   "outputs": [],
   "source": [
    "print(__doc__)\n",
    "\n",
    "import numpy as np\n",
    "import matplotlib.pyplot as plt\n",
    "\n",
    "from sklearn.datasets import make_classification\n",
    "from sklearn.ensemble import ExtraTreesClassifier\n",
    "\n",
    "# Build a classification task using 3 informative features\n",
    "X, y = make_classification(n_samples=1000,\n",
    "                           n_features=10,\n",
    "                           n_informative=3,\n",
    "                           n_redundant=0,\n",
    "                           n_repeated=0,\n",
    "                           n_classes=2,\n",
    "                           random_state=0,\n",
    "                           shuffle=False)\n",
    "\n",
    "# Build a forest and compute the impurity-based feature importances\n",
    "forest = ExtraTreesClassifier(n_estimators=250,\n",
    "                              random_state=0)\n",
    "\n",
    "forest.fit(X, y)\n",
    "importances = forest.feature_importances_\n",
    "std = np.std([tree.feature_importances_ for tree in forest.estimators_],\n",
    "             axis=0)\n",
    "indices = np.argsort(importances)[::-1]\n",
    "\n",
    "# Print the feature ranking\n",
    "print(\"Feature ranking:\")\n",
    "\n",
    "for f in range(X.shape[1]):\n",
    "    print(\"%d. feature %d (%f)\" % (f + 1, indices[f], importances[indices[f]]))\n",
    "\n",
    "# Plot the impurity-based feature importances of the forest\n",
    "plt.figure()\n",
    "plt.title(\"Feature importances\")\n",
    "plt.bar(range(X.shape[1]), importances[indices],\n",
    "        color=\"r\", yerr=std[indices], align=\"center\")\n",
    "plt.xticks(range(X.shape[1]), indices)\n",
    "plt.xlim([-1, X.shape[1]])\n",
    "plt.show()"
   ]
  },
  {
   "cell_type": "code",
   "execution_count": null,
   "metadata": {},
   "outputs": [],
   "source": [
    "X.shape[1]"
   ]
  },
  {
   "cell_type": "code",
   "execution_count": null,
   "metadata": {},
   "outputs": [],
   "source": [
    "\n",
    "forest.fit(X, y)\n",
    "importances = forest.feature_importances_\n",
    "importances"
   ]
  },
  {
   "cell_type": "code",
   "execution_count": null,
   "metadata": {},
   "outputs": [],
   "source": [
    "[\"feature 1\"]"
   ]
  },
  {
   "cell_type": "code",
   "execution_count": null,
   "metadata": {},
   "outputs": [],
   "source": [
    "X= df.drop(\"price\", axis =1)\n",
    "y= df[\"price\"]\n",
    "X_train, X_test, y_train, y_test = train_test_split(df.drop('price',axis=1),\n",
    "                                                    df['price'], test_size=0.3,\n",
    "                                                    random_state=42)\n",
    "\n",
    "from sklearn.ensemble import RandomForestRegressor\n",
    "forest = RandomForestRegressor(n_estimators=300, random_state=10)\n",
    "forest.fit(X_train, y_train)\n",
    "y_pred = forest.predict(X_test)\n",
    "# Score model\n",
    "\n",
    "eval_metrics(y_test, y_pred)"
   ]
  },
  {
   "cell_type": "code",
   "execution_count": null,
   "metadata": {},
   "outputs": [],
   "source": [
    "rf= RandomForestRegressor()"
   ]
  },
  {
   "cell_type": "code",
   "execution_count": null,
   "metadata": {},
   "outputs": [],
   "source": [
    "rf_params = {\"n_estimators\":[50, 100, 300],\n",
    "              \"max_depth\":[3,5,7],\n",
    "              \"max_features\": [2,4,6,8],\n",
    "              \"min_samples_split\": [2,4,6]}"
   ]
  },
  {
   "cell_type": "code",
   "execution_count": null,
   "metadata": {},
   "outputs": [],
   "source": [
    "rf_cv_model = GridSearchCV(rf, rf_params, cv = 5, n_jobs = -1, verbose = 2).fit(X_train, y_train)"
   ]
  },
  {
   "cell_type": "code",
   "execution_count": null,
   "metadata": {},
   "outputs": [],
   "source": [
    "rf_cv_model.best_params_"
   ]
  },
  {
   "cell_type": "code",
   "execution_count": null,
   "metadata": {},
   "outputs": [],
   "source": [
    "rf_tuned = RandomForestClassifier(max_depth = 7,\n",
    "                                  max_features = 8,\n",
    "                                  min_samples_split = 2,\n",
    "                                  n_estimators = 300).fit(X_train, y_train)"
   ]
  },
  {
   "cell_type": "code",
   "execution_count": null,
   "metadata": {},
   "outputs": [],
   "source": [
    "y_pred = rf_tuned.predict(X_test)\n",
    "confusion_matrix(y_test, y_pred)"
   ]
  },
  {
   "cell_type": "code",
   "execution_count": null,
   "metadata": {},
   "outputs": [],
   "source": [
    "print(classification_report(y_test, y_pred))"
   ]
  },
  {
   "cell_type": "code",
   "execution_count": null,
   "metadata": {},
   "outputs": [],
   "source": [
    "feature_imp = pd.Series(rf_tuned.feature_importances_,\n",
    "                        index=X_train.columns).sort_values(ascending=False)\n",
    "sns.barplot(x=feature_imp, y=feature_imp.index)\n",
    "plt.title(\"Feature Importance\")\n",
    "plt.show()"
   ]
  },
  {
   "cell_type": "code",
   "execution_count": null,
   "metadata": {},
   "outputs": [],
   "source": []
  },
  {
   "cell_type": "markdown",
   "metadata": {},
   "source": [
    "## XGBoost"
   ]
  },
  {
   "cell_type": "code",
   "execution_count": 116,
   "metadata": {},
   "outputs": [],
   "source": [
    "import xgboost as xgb\n",
    "from xgboost import XGBRegressor\n",
    "from sklearn.tree import DecisionTreeRegressor\n",
    "from sklearn.datasets import make_regression\n",
    "from sklearn.ensemble import RandomForestRegressor\n",
    "from sklearn.neighbors import KNeighborsRegressor"
   ]
  },
  {
   "cell_type": "code",
   "execution_count": 120,
   "metadata": {},
   "outputs": [],
   "source": [
    "xgb = XGBRegressor()"
   ]
  },
  {
   "cell_type": "code",
   "execution_count": 121,
   "metadata": {},
   "outputs": [],
   "source": [
    "xgb_model = XGBRegressor().fit(X_train, y_train)"
   ]
  },
  {
   "cell_type": "code",
   "execution_count": 122,
   "metadata": {},
   "outputs": [],
   "source": [
    "y_pred = xgb_model.predict(X_test)"
   ]
  },
  {
   "cell_type": "code",
   "execution_count": 123,
   "metadata": {},
   "outputs": [
    {
     "name": "stdout",
     "output_type": "stream",
     "text": [
      "r2_score: 0.9561544817101167 \n",
      " mae: 937.6723370954093 \n",
      " mse: 2212194.7506366977 \n",
      " rmse: 1487.3448660740044\n"
     ]
    }
   ],
   "source": [
    "eval_metrics(y_test, y_pred)"
   ]
  },
  {
   "cell_type": "code",
   "execution_count": null,
   "metadata": {},
   "outputs": [],
   "source": [
    "# Tunning XGBOOST"
   ]
  },
  {
   "cell_type": "code",
   "execution_count": 125,
   "metadata": {},
   "outputs": [],
   "source": [
    "xgb= XGBRegressor()"
   ]
  },
  {
   "cell_type": "code",
   "execution_count": 126,
   "metadata": {},
   "outputs": [],
   "source": [
    "xgb_params = {\"n_estimators\": [50, 100, 300],\n",
    "             \"subsample\":[0.5,0.8,1],\n",
    "             \"max_depth\":[3,5,7],\n",
    "             \"learning_rate\":[0.1,0.01,0.3]}"
   ]
  },
  {
   "cell_type": "code",
   "execution_count": 127,
   "metadata": {},
   "outputs": [
    {
     "name": "stdout",
     "output_type": "stream",
     "text": [
      "Fitting 5 folds for each of 81 candidates, totalling 405 fits\n"
     ]
    },
    {
     "name": "stderr",
     "output_type": "stream",
     "text": [
      "[Parallel(n_jobs=-1)]: Using backend LokyBackend with 8 concurrent workers.\n",
      "[Parallel(n_jobs=-1)]: Done  25 tasks      | elapsed:   17.6s\n",
      "[Parallel(n_jobs=-1)]: Done 146 tasks      | elapsed:  4.2min\n",
      "[Parallel(n_jobs=-1)]: Done 349 tasks      | elapsed: 10.0min\n",
      "[Parallel(n_jobs=-1)]: Done 405 out of 405 | elapsed: 12.2min finished\n"
     ]
    }
   ],
   "source": [
    "xgb_cv_model = GridSearchCV(xgb, xgb_params, cv = 5,\n",
    "                            n_jobs = -1, verbose = 2).fit(X_train, y_train)"
   ]
  },
  {
   "cell_type": "code",
   "execution_count": 131,
   "metadata": {},
   "outputs": [
    {
     "data": {
      "text/plain": [
       "{'learning_rate': 0.1, 'max_depth': 7, 'n_estimators': 300, 'subsample': 0.5}"
      ]
     },
     "execution_count": 131,
     "metadata": {},
     "output_type": "execute_result"
    }
   ],
   "source": [
    "xgb_cv_model.best_params_"
   ]
  },
  {
   "cell_type": "code",
   "execution_count": 132,
   "metadata": {},
   "outputs": [],
   "source": [
    "xgb_tuned = XGBRegressor(learning_rate= 0.1, \n",
    "                                max_depth= 7, \n",
    "                                n_estimators= 300, \n",
    "                                subsample= 0.5).fit(X_train, y_train)"
   ]
  },
  {
   "cell_type": "code",
   "execution_count": null,
   "metadata": {},
   "outputs": [],
   "source": []
  },
  {
   "cell_type": "code",
   "execution_count": 133,
   "metadata": {},
   "outputs": [
    {
     "name": "stdout",
     "output_type": "stream",
     "text": [
      "r2_score: 0.9627566458841756 \n",
      " mae: 864.5801221589014 \n",
      " mse: 1879087.2062776024 \n",
      " rmse: 1370.798018045548\n"
     ]
    }
   ],
   "source": [
    "y_pred = xgb_tuned.predict(X_test)\n",
    "eval_metrics(y_test, y_pred)"
   ]
  },
  {
   "cell_type": "code",
   "execution_count": null,
   "metadata": {},
   "outputs": [],
   "source": []
  },
  {
   "cell_type": "code",
   "execution_count": null,
   "metadata": {},
   "outputs": [],
   "source": []
  },
  {
   "cell_type": "code",
   "execution_count": null,
   "metadata": {},
   "outputs": [],
   "source": []
  },
  {
   "cell_type": "code",
   "execution_count": null,
   "metadata": {},
   "outputs": [],
   "source": []
  }
 ],
 "metadata": {
  "colab": {
   "collapsed_sections": [],
   "name": "modeling_auto_scout_Student_V1.ipynb",
   "provenance": []
  },
  "kernelspec": {
   "display_name": "Python 3",
   "language": "python",
   "name": "python3"
  },
  "language_info": {
   "codemirror_mode": {
    "name": "ipython",
    "version": 3
   },
   "file_extension": ".py",
   "mimetype": "text/x-python",
   "name": "python",
   "nbconvert_exporter": "python",
   "pygments_lexer": "ipython3",
   "version": "3.7.6"
  }
 },
 "nbformat": 4,
 "nbformat_minor": 1
}
