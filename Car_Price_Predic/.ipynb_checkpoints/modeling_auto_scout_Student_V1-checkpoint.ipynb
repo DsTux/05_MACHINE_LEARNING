{
 "cells": [
  {
   "cell_type": "markdown",
   "metadata": {
    "id": "4UCsvzbImqZN"
   },
   "source": [
    "___\n",
    "\n",
    "<p style=\"text-align: center;\"><img src=\"https://docs.google.com/uc?id=1lY0Uj5R04yMY3-ZppPWxqCr5pvBLYPnV\" class=\"img-fluid\" alt=\"CLRSWY\"></p>\n",
    "\n",
    "___"
   ]
  },
  {
   "cell_type": "markdown",
   "metadata": {
    "id": "i5WapR8JmqZN"
   },
   "source": [
    "# WELCOME!"
   ]
  },
  {
   "cell_type": "markdown",
   "metadata": {
    "id": "ZyeGWbuTmqZN"
   },
   "source": [
    "Welcome to \"***Car Price Prediction Project***\". This is the first medium project of ***Machine Learning*** course. In this project you will have the opportunity to apply many algorithms commonly used for regression problems.\n",
    "\n",
    "Also, you will apply various processes such as pre-processing, ***train-test spilit*** and ***cross validation*** that you will use in algorithm modeling and prediction processes in Python with ***scikit-learn***. \n",
    "\n",
    "Before diving into the project, please take a look at the determines and tasks.\n",
    "\n",
    "- **NOTE:** This project assumes that you already know the basics of coding in Python. You should also be familiar with the theory behind regression algorithms and scikit-learn module as well as Machine Learning before you begin.\n"
   ]
  },
  {
   "cell_type": "markdown",
   "metadata": {
    "id": "c0Iul5QymqZN"
   },
   "source": [
    "# #Determines\n",
    "\n",
    "The domain you must have remembered it because you are worked on under project **\"EDA for Car Price Prediction Model\"**. **Auto Scout** data which using for this project, scraped from the on-line car trading company in 2019, contains many features of 9 different car models. In this project, you will use the data sets prepared for algorithms as a result of the EDA project.\n",
    "\n",
    "So this study assumes that you are working on the EDA project and that you have sufficient domain knowledge.\n",
    "\n",
    "Therefore, you will not need any EDA process as you will be working on the edited data.\n",
    "\n",
    "---\n",
    "\n",
    "In this case, you will estimate the prices of cars using regression algorithms.\n",
    "\n",
    "While starting you should import the necessary modules and load the data given as pkl file. Also you'll need to do a few pre-processing before moving to modelling. After that you will implement ***Linear Regression, Ridge Regression, Lasso Regression, Random Forest*** and ***XG Boost*** algorithms respectively. You can measure the success of your models with regression evaluation metrics as well as with cross validation method.\n",
    "\n",
    "For the better results, you should try to increase the success of your models by performing hyperparameter tuning. Determine feature importances for the model. You can set your model with the most important features for resource saving. You should try to apply this especially in Random Forest and XG Boost algorithms. Unlike the others, you will perform hyperparameter tuning for Random Forest and XG Boost using the ***GridSearchCV*** method. \n",
    "\n",
    "Finally You can compare the performances of algorithms, work more on the algorithm have the most successful prediction rate.\n",
    "\n",
    "\n",
    "\n",
    "\n"
   ]
  },
  {
   "cell_type": "markdown",
   "metadata": {
    "id": "pL-jJ1irmqZN"
   },
   "source": [
    "# #Tasks\n",
    "\n",
    "#### 1. Import Modules, Load Data and Data Review\n",
    "#### 2. Data Pre-Processing\n",
    "#### 3. Implement Linear Regression \n",
    "#### 4. Implement Ridge Regression\n",
    "#### 5. Implement Lasso Regression "
   ]
  },
  {
   "cell_type": "markdown",
   "metadata": {
    "id": "Rik6d_vimqZN"
   },
   "source": [
    "## 1. Import Modules, Load Data and Data Review"
   ]
  },
  {
   "cell_type": "code",
   "execution_count": 10,
   "metadata": {},
   "outputs": [],
   "source": [
    "import pandas as pd\n",
    "import numpy as np\n",
    "import matplotlib.pyplot as plt\n",
    "import seaborn as sns\n",
    "from sklearn.preprocessing import StandardScaler\n",
    "from sklearn.metrics import mean_absolute_error\n",
    "from sklearn.metrics import mean_squared_error, mean_absolute_error, r2_score\n",
    "from sklearn.model_selection import train_test_split, GridSearchCV\n",
    "import warnings\n",
    "warnings.filterwarnings('ignore')\n",
    "%matplotlib inline"
   ]
  },
  {
   "cell_type": "code",
   "execution_count": 11,
   "metadata": {
    "scrolled": true
   },
   "outputs": [
    {
     "data": {
      "text/html": [
       "<div>\n",
       "<style scoped>\n",
       "    .dataframe tbody tr th:only-of-type {\n",
       "        vertical-align: middle;\n",
       "    }\n",
       "\n",
       "    .dataframe tbody tr th {\n",
       "        vertical-align: top;\n",
       "    }\n",
       "\n",
       "    .dataframe thead th {\n",
       "        text-align: right;\n",
       "    }\n",
       "</style>\n",
       "<table border=\"1\" class=\"dataframe\">\n",
       "  <thead>\n",
       "    <tr style=\"text-align: right;\">\n",
       "      <th></th>\n",
       "      <th>displacement</th>\n",
       "      <th>hp</th>\n",
       "      <th>km</th>\n",
       "      <th>ss_abs</th>\n",
       "      <th>ss_adaptive_cruise_control</th>\n",
       "      <th>ss_adaptive_headlights</th>\n",
       "      <th>ss_alarm_system</th>\n",
       "      <th>ss_blind_spot_monitor</th>\n",
       "      <th>ss_central_door_lock</th>\n",
       "      <th>ss_central_door_lock_with_remote_control</th>\n",
       "      <th>...</th>\n",
       "      <th>gearing_type_Semi-automatic</th>\n",
       "      <th>fuel_diesel</th>\n",
       "      <th>fuel_electric</th>\n",
       "      <th>fuel_gasoline</th>\n",
       "      <th>fuel_lpg</th>\n",
       "      <th>type_Demonstration</th>\n",
       "      <th>type_Employee's car</th>\n",
       "      <th>type_New</th>\n",
       "      <th>type_Pre-registered</th>\n",
       "      <th>type_Used</th>\n",
       "    </tr>\n",
       "  </thead>\n",
       "  <tbody>\n",
       "    <tr>\n",
       "      <th>0</th>\n",
       "      <td>1422.0</td>\n",
       "      <td>66.0</td>\n",
       "      <td>56013</td>\n",
       "      <td>1.0</td>\n",
       "      <td>0.0</td>\n",
       "      <td>0.0</td>\n",
       "      <td>0.0</td>\n",
       "      <td>0.0</td>\n",
       "      <td>1.0</td>\n",
       "      <td>0.0</td>\n",
       "      <td>...</td>\n",
       "      <td>0</td>\n",
       "      <td>1</td>\n",
       "      <td>0</td>\n",
       "      <td>0</td>\n",
       "      <td>0</td>\n",
       "      <td>0</td>\n",
       "      <td>0</td>\n",
       "      <td>0</td>\n",
       "      <td>0</td>\n",
       "      <td>1</td>\n",
       "    </tr>\n",
       "    <tr>\n",
       "      <th>1</th>\n",
       "      <td>1798.0</td>\n",
       "      <td>141.0</td>\n",
       "      <td>80000</td>\n",
       "      <td>1.0</td>\n",
       "      <td>0.0</td>\n",
       "      <td>0.0</td>\n",
       "      <td>0.0</td>\n",
       "      <td>0.0</td>\n",
       "      <td>1.0</td>\n",
       "      <td>1.0</td>\n",
       "      <td>...</td>\n",
       "      <td>0</td>\n",
       "      <td>0</td>\n",
       "      <td>0</td>\n",
       "      <td>1</td>\n",
       "      <td>0</td>\n",
       "      <td>0</td>\n",
       "      <td>0</td>\n",
       "      <td>0</td>\n",
       "      <td>0</td>\n",
       "      <td>1</td>\n",
       "    </tr>\n",
       "    <tr>\n",
       "      <th>2</th>\n",
       "      <td>1598.0</td>\n",
       "      <td>85.0</td>\n",
       "      <td>83450</td>\n",
       "      <td>1.0</td>\n",
       "      <td>0.0</td>\n",
       "      <td>0.0</td>\n",
       "      <td>0.0</td>\n",
       "      <td>0.0</td>\n",
       "      <td>1.0</td>\n",
       "      <td>0.0</td>\n",
       "      <td>...</td>\n",
       "      <td>0</td>\n",
       "      <td>1</td>\n",
       "      <td>0</td>\n",
       "      <td>0</td>\n",
       "      <td>0</td>\n",
       "      <td>0</td>\n",
       "      <td>0</td>\n",
       "      <td>0</td>\n",
       "      <td>0</td>\n",
       "      <td>1</td>\n",
       "    </tr>\n",
       "    <tr>\n",
       "      <th>3</th>\n",
       "      <td>1422.0</td>\n",
       "      <td>66.0</td>\n",
       "      <td>73000</td>\n",
       "      <td>1.0</td>\n",
       "      <td>0.0</td>\n",
       "      <td>0.0</td>\n",
       "      <td>1.0</td>\n",
       "      <td>0.0</td>\n",
       "      <td>0.0</td>\n",
       "      <td>1.0</td>\n",
       "      <td>...</td>\n",
       "      <td>0</td>\n",
       "      <td>1</td>\n",
       "      <td>0</td>\n",
       "      <td>0</td>\n",
       "      <td>0</td>\n",
       "      <td>0</td>\n",
       "      <td>0</td>\n",
       "      <td>0</td>\n",
       "      <td>0</td>\n",
       "      <td>1</td>\n",
       "    </tr>\n",
       "    <tr>\n",
       "      <th>4</th>\n",
       "      <td>1422.0</td>\n",
       "      <td>66.0</td>\n",
       "      <td>16200</td>\n",
       "      <td>1.0</td>\n",
       "      <td>0.0</td>\n",
       "      <td>0.0</td>\n",
       "      <td>0.0</td>\n",
       "      <td>0.0</td>\n",
       "      <td>1.0</td>\n",
       "      <td>0.0</td>\n",
       "      <td>...</td>\n",
       "      <td>0</td>\n",
       "      <td>1</td>\n",
       "      <td>0</td>\n",
       "      <td>0</td>\n",
       "      <td>0</td>\n",
       "      <td>0</td>\n",
       "      <td>0</td>\n",
       "      <td>0</td>\n",
       "      <td>0</td>\n",
       "      <td>1</td>\n",
       "    </tr>\n",
       "  </tbody>\n",
       "</table>\n",
       "<p>5 rows × 136 columns</p>\n",
       "</div>"
      ],
      "text/plain": [
       "   displacement     hp     km  ss_abs  ss_adaptive_cruise_control  \\\n",
       "0        1422.0   66.0  56013     1.0                         0.0   \n",
       "1        1798.0  141.0  80000     1.0                         0.0   \n",
       "2        1598.0   85.0  83450     1.0                         0.0   \n",
       "3        1422.0   66.0  73000     1.0                         0.0   \n",
       "4        1422.0   66.0  16200     1.0                         0.0   \n",
       "\n",
       "   ss_adaptive_headlights  ss_alarm_system  ss_blind_spot_monitor  \\\n",
       "0                     0.0              0.0                    0.0   \n",
       "1                     0.0              0.0                    0.0   \n",
       "2                     0.0              0.0                    0.0   \n",
       "3                     0.0              1.0                    0.0   \n",
       "4                     0.0              0.0                    0.0   \n",
       "\n",
       "   ss_central_door_lock  ss_central_door_lock_with_remote_control  ...  \\\n",
       "0                   1.0                                       0.0  ...   \n",
       "1                   1.0                                       1.0  ...   \n",
       "2                   1.0                                       0.0  ...   \n",
       "3                   0.0                                       1.0  ...   \n",
       "4                   1.0                                       0.0  ...   \n",
       "\n",
       "   gearing_type_Semi-automatic  fuel_diesel  fuel_electric  fuel_gasoline  \\\n",
       "0                            0            1              0              0   \n",
       "1                            0            0              0              1   \n",
       "2                            0            1              0              0   \n",
       "3                            0            1              0              0   \n",
       "4                            0            1              0              0   \n",
       "\n",
       "   fuel_lpg  type_Demonstration  type_Employee's car  type_New  \\\n",
       "0         0                   0                    0         0   \n",
       "1         0                   0                    0         0   \n",
       "2         0                   0                    0         0   \n",
       "3         0                   0                    0         0   \n",
       "4         0                   0                    0         0   \n",
       "\n",
       "   type_Pre-registered  type_Used  \n",
       "0                    0          1  \n",
       "1                    0          1  \n",
       "2                    0          1  \n",
       "3                    0          1  \n",
       "4                    0          1  \n",
       "\n",
       "[5 rows x 136 columns]"
      ]
     },
     "execution_count": 11,
     "metadata": {},
     "output_type": "execute_result"
    }
   ],
   "source": [
    "df = pd.read_pickle(\"golden_data_dummy.pkl\")\n",
    "df.head()"
   ]
  },
  {
   "cell_type": "code",
   "execution_count": 4,
   "metadata": {},
   "outputs": [
    {
     "data": {
      "text/plain": [
       "'C:\\\\Users\\\\ilkca\\\\DATA_SCIENCE\\\\PROJECTS\\\\06_Machine_Learning\\\\Car_Price_Predic'"
      ]
     },
     "execution_count": 4,
     "metadata": {},
     "output_type": "execute_result"
    }
   ],
   "source": [
    "pwd"
   ]
  },
  {
   "cell_type": "code",
   "execution_count": 5,
   "metadata": {},
   "outputs": [
    {
     "data": {
      "text/html": [
       "<div>\n",
       "<style scoped>\n",
       "    .dataframe tbody tr th:only-of-type {\n",
       "        vertical-align: middle;\n",
       "    }\n",
       "\n",
       "    .dataframe tbody tr th {\n",
       "        vertical-align: top;\n",
       "    }\n",
       "\n",
       "    .dataframe thead th {\n",
       "        text-align: right;\n",
       "    }\n",
       "</style>\n",
       "<table border=\"1\" class=\"dataframe\">\n",
       "  <thead>\n",
       "    <tr style=\"text-align: right;\">\n",
       "      <th></th>\n",
       "      <th>displacement</th>\n",
       "      <th>hp</th>\n",
       "      <th>km</th>\n",
       "      <th>ss_abs</th>\n",
       "      <th>ss_adaptive_cruise_control</th>\n",
       "      <th>ss_adaptive_headlights</th>\n",
       "      <th>ss_alarm_system</th>\n",
       "      <th>ss_blind_spot_monitor</th>\n",
       "      <th>ss_central_door_lock</th>\n",
       "      <th>ss_central_door_lock_with_remote_control</th>\n",
       "      <th>...</th>\n",
       "      <th>gearing_type_Semi-automatic</th>\n",
       "      <th>fuel_diesel</th>\n",
       "      <th>fuel_electric</th>\n",
       "      <th>fuel_gasoline</th>\n",
       "      <th>fuel_lpg</th>\n",
       "      <th>type_Demonstration</th>\n",
       "      <th>type_Employee's car</th>\n",
       "      <th>type_New</th>\n",
       "      <th>type_Pre-registered</th>\n",
       "      <th>type_Used</th>\n",
       "    </tr>\n",
       "  </thead>\n",
       "  <tbody>\n",
       "    <tr>\n",
       "      <th>0</th>\n",
       "      <td>1422.0</td>\n",
       "      <td>66.0</td>\n",
       "      <td>56013</td>\n",
       "      <td>1.0</td>\n",
       "      <td>0.0</td>\n",
       "      <td>0.0</td>\n",
       "      <td>0.0</td>\n",
       "      <td>0.0</td>\n",
       "      <td>1.0</td>\n",
       "      <td>0.0</td>\n",
       "      <td>...</td>\n",
       "      <td>0</td>\n",
       "      <td>1</td>\n",
       "      <td>0</td>\n",
       "      <td>0</td>\n",
       "      <td>0</td>\n",
       "      <td>0</td>\n",
       "      <td>0</td>\n",
       "      <td>0</td>\n",
       "      <td>0</td>\n",
       "      <td>1</td>\n",
       "    </tr>\n",
       "    <tr>\n",
       "      <th>1</th>\n",
       "      <td>1798.0</td>\n",
       "      <td>141.0</td>\n",
       "      <td>80000</td>\n",
       "      <td>1.0</td>\n",
       "      <td>0.0</td>\n",
       "      <td>0.0</td>\n",
       "      <td>0.0</td>\n",
       "      <td>0.0</td>\n",
       "      <td>1.0</td>\n",
       "      <td>1.0</td>\n",
       "      <td>...</td>\n",
       "      <td>0</td>\n",
       "      <td>0</td>\n",
       "      <td>0</td>\n",
       "      <td>1</td>\n",
       "      <td>0</td>\n",
       "      <td>0</td>\n",
       "      <td>0</td>\n",
       "      <td>0</td>\n",
       "      <td>0</td>\n",
       "      <td>1</td>\n",
       "    </tr>\n",
       "    <tr>\n",
       "      <th>2</th>\n",
       "      <td>1598.0</td>\n",
       "      <td>85.0</td>\n",
       "      <td>83450</td>\n",
       "      <td>1.0</td>\n",
       "      <td>0.0</td>\n",
       "      <td>0.0</td>\n",
       "      <td>0.0</td>\n",
       "      <td>0.0</td>\n",
       "      <td>1.0</td>\n",
       "      <td>0.0</td>\n",
       "      <td>...</td>\n",
       "      <td>0</td>\n",
       "      <td>1</td>\n",
       "      <td>0</td>\n",
       "      <td>0</td>\n",
       "      <td>0</td>\n",
       "      <td>0</td>\n",
       "      <td>0</td>\n",
       "      <td>0</td>\n",
       "      <td>0</td>\n",
       "      <td>1</td>\n",
       "    </tr>\n",
       "    <tr>\n",
       "      <th>3</th>\n",
       "      <td>1422.0</td>\n",
       "      <td>66.0</td>\n",
       "      <td>73000</td>\n",
       "      <td>1.0</td>\n",
       "      <td>0.0</td>\n",
       "      <td>0.0</td>\n",
       "      <td>1.0</td>\n",
       "      <td>0.0</td>\n",
       "      <td>0.0</td>\n",
       "      <td>1.0</td>\n",
       "      <td>...</td>\n",
       "      <td>0</td>\n",
       "      <td>1</td>\n",
       "      <td>0</td>\n",
       "      <td>0</td>\n",
       "      <td>0</td>\n",
       "      <td>0</td>\n",
       "      <td>0</td>\n",
       "      <td>0</td>\n",
       "      <td>0</td>\n",
       "      <td>1</td>\n",
       "    </tr>\n",
       "    <tr>\n",
       "      <th>4</th>\n",
       "      <td>1422.0</td>\n",
       "      <td>66.0</td>\n",
       "      <td>16200</td>\n",
       "      <td>1.0</td>\n",
       "      <td>0.0</td>\n",
       "      <td>0.0</td>\n",
       "      <td>0.0</td>\n",
       "      <td>0.0</td>\n",
       "      <td>1.0</td>\n",
       "      <td>0.0</td>\n",
       "      <td>...</td>\n",
       "      <td>0</td>\n",
       "      <td>1</td>\n",
       "      <td>0</td>\n",
       "      <td>0</td>\n",
       "      <td>0</td>\n",
       "      <td>0</td>\n",
       "      <td>0</td>\n",
       "      <td>0</td>\n",
       "      <td>0</td>\n",
       "      <td>1</td>\n",
       "    </tr>\n",
       "  </tbody>\n",
       "</table>\n",
       "<p>5 rows × 136 columns</p>\n",
       "</div>"
      ],
      "text/plain": [
       "   displacement     hp     km  ss_abs  ss_adaptive_cruise_control  \\\n",
       "0        1422.0   66.0  56013     1.0                         0.0   \n",
       "1        1798.0  141.0  80000     1.0                         0.0   \n",
       "2        1598.0   85.0  83450     1.0                         0.0   \n",
       "3        1422.0   66.0  73000     1.0                         0.0   \n",
       "4        1422.0   66.0  16200     1.0                         0.0   \n",
       "\n",
       "   ss_adaptive_headlights  ss_alarm_system  ss_blind_spot_monitor  \\\n",
       "0                     0.0              0.0                    0.0   \n",
       "1                     0.0              0.0                    0.0   \n",
       "2                     0.0              0.0                    0.0   \n",
       "3                     0.0              1.0                    0.0   \n",
       "4                     0.0              0.0                    0.0   \n",
       "\n",
       "   ss_central_door_lock  ss_central_door_lock_with_remote_control  ...  \\\n",
       "0                   1.0                                       0.0  ...   \n",
       "1                   1.0                                       1.0  ...   \n",
       "2                   1.0                                       0.0  ...   \n",
       "3                   0.0                                       1.0  ...   \n",
       "4                   1.0                                       0.0  ...   \n",
       "\n",
       "   gearing_type_Semi-automatic  fuel_diesel  fuel_electric  fuel_gasoline  \\\n",
       "0                            0            1              0              0   \n",
       "1                            0            0              0              1   \n",
       "2                            0            1              0              0   \n",
       "3                            0            1              0              0   \n",
       "4                            0            1              0              0   \n",
       "\n",
       "   fuel_lpg  type_Demonstration  type_Employee's car  type_New  \\\n",
       "0         0                   0                    0         0   \n",
       "1         0                   0                    0         0   \n",
       "2         0                   0                    0         0   \n",
       "3         0                   0                    0         0   \n",
       "4         0                   0                    0         0   \n",
       "\n",
       "   type_Pre-registered  type_Used  \n",
       "0                    0          1  \n",
       "1                    0          1  \n",
       "2                    0          1  \n",
       "3                    0          1  \n",
       "4                    0          1  \n",
       "\n",
       "[5 rows x 136 columns]"
      ]
     },
     "execution_count": 5,
     "metadata": {},
     "output_type": "execute_result"
    }
   ],
   "source": [
    "df = pd.read_pickle(\"golden_data_dummy.pkl\")\n",
    "df.head()"
   ]
  },
  {
   "cell_type": "code",
   "execution_count": 6,
   "metadata": {},
   "outputs": [
    {
     "name": "stdout",
     "output_type": "stream",
     "text": [
      "<class 'pandas.core.frame.DataFrame'>\n",
      "Int64Index: 14990 entries, 0 to 15918\n",
      "Columns: 136 entries, displacement to type_Used\n",
      "dtypes: float64(86), int64(5), uint8(45)\n",
      "memory usage: 11.2 MB\n"
     ]
    }
   ],
   "source": [
    "df.info()"
   ]
  },
  {
   "cell_type": "code",
   "execution_count": 13,
   "metadata": {},
   "outputs": [
    {
     "data": {
      "text/plain": [
       "(14990, 136)"
      ]
     },
     "execution_count": 13,
     "metadata": {},
     "output_type": "execute_result"
    }
   ],
   "source": [
    "df.shape"
   ]
  },
  {
   "cell_type": "code",
   "execution_count": 7,
   "metadata": {},
   "outputs": [
    {
     "data": {
      "text/plain": [
       "Index(['displacement', 'hp', 'km', 'ss_abs', 'ss_adaptive_cruise_control',\n",
       "       'ss_adaptive_headlights', 'ss_alarm_system', 'ss_blind_spot_monitor',\n",
       "       'ss_central_door_lock', 'ss_central_door_lock_with_remote_control',\n",
       "       ...\n",
       "       'gearing_type_Semi-automatic', 'fuel_diesel', 'fuel_electric',\n",
       "       'fuel_gasoline', 'fuel_lpg', 'type_Demonstration',\n",
       "       'type_Employee's car', 'type_New', 'type_Pre-registered', 'type_Used'],\n",
       "      dtype='object', length=136)"
      ]
     },
     "execution_count": 7,
     "metadata": {},
     "output_type": "execute_result"
    }
   ],
   "source": [
    "df.columns"
   ]
  },
  {
   "cell_type": "code",
   "execution_count": 8,
   "metadata": {},
   "outputs": [],
   "source": [
    "# EDA"
   ]
  },
  {
   "cell_type": "code",
   "execution_count": 9,
   "metadata": {},
   "outputs": [
    {
     "data": {
      "text/plain": [
       "displacement                  0\n",
       "hp                            0\n",
       "km                            0\n",
       "ss_abs                        0\n",
       "ss_adaptive_cruise_control    0\n",
       "                             ..\n",
       "type_Demonstration            0\n",
       "type_Employee's car           0\n",
       "type_New                      0\n",
       "type_Pre-registered           0\n",
       "type_Used                     0\n",
       "Length: 136, dtype: int64"
      ]
     },
     "execution_count": 9,
     "metadata": {},
     "output_type": "execute_result"
    }
   ],
   "source": [
    "pd.isnull(df).sum()"
   ]
  },
  {
   "cell_type": "code",
   "execution_count": 10,
   "metadata": {},
   "outputs": [
    {
     "data": {
      "text/plain": [
       "displacement                  False\n",
       "hp                            False\n",
       "km                            False\n",
       "ss_abs                        False\n",
       "ss_adaptive_cruise_control    False\n",
       "                              ...  \n",
       "type_Demonstration            False\n",
       "type_Employee's car           False\n",
       "type_New                      False\n",
       "type_Pre-registered           False\n",
       "type_Used                     False\n",
       "Length: 136, dtype: bool"
      ]
     },
     "execution_count": 10,
     "metadata": {},
     "output_type": "execute_result"
    }
   ],
   "source": [
    "df.isnull().any()"
   ]
  },
  {
   "cell_type": "code",
   "execution_count": 14,
   "metadata": {
    "scrolled": true
   },
   "outputs": [
    {
     "data": {
      "text/html": [
       "<div>\n",
       "<style scoped>\n",
       "    .dataframe tbody tr th:only-of-type {\n",
       "        vertical-align: middle;\n",
       "    }\n",
       "\n",
       "    .dataframe tbody tr th {\n",
       "        vertical-align: top;\n",
       "    }\n",
       "\n",
       "    .dataframe thead th {\n",
       "        text-align: right;\n",
       "    }\n",
       "</style>\n",
       "<table border=\"1\" class=\"dataframe\">\n",
       "  <thead>\n",
       "    <tr style=\"text-align: right;\">\n",
       "      <th></th>\n",
       "      <th>displacement</th>\n",
       "      <th>hp</th>\n",
       "      <th>km</th>\n",
       "      <th>ss_abs</th>\n",
       "      <th>ss_adaptive_cruise_control</th>\n",
       "      <th>ss_adaptive_headlights</th>\n",
       "      <th>ss_alarm_system</th>\n",
       "      <th>ss_blind_spot_monitor</th>\n",
       "      <th>ss_central_door_lock</th>\n",
       "      <th>ss_central_door_lock_with_remote_control</th>\n",
       "      <th>...</th>\n",
       "      <th>gearing_type_Semi-automatic</th>\n",
       "      <th>fuel_diesel</th>\n",
       "      <th>fuel_electric</th>\n",
       "      <th>fuel_gasoline</th>\n",
       "      <th>fuel_lpg</th>\n",
       "      <th>type_Demonstration</th>\n",
       "      <th>type_Employee's car</th>\n",
       "      <th>type_New</th>\n",
       "      <th>type_Pre-registered</th>\n",
       "      <th>type_Used</th>\n",
       "    </tr>\n",
       "  </thead>\n",
       "  <tbody>\n",
       "    <tr>\n",
       "      <th>displacement</th>\n",
       "      <td>1.000000</td>\n",
       "      <td>0.608069</td>\n",
       "      <td>0.306380</td>\n",
       "      <td>0.039455</td>\n",
       "      <td>0.219180</td>\n",
       "      <td>0.256791</td>\n",
       "      <td>0.075198</td>\n",
       "      <td>0.284346</td>\n",
       "      <td>0.008668</td>\n",
       "      <td>0.011990</td>\n",
       "      <td>...</td>\n",
       "      <td>0.101407</td>\n",
       "      <td>0.647354</td>\n",
       "      <td>-0.004512</td>\n",
       "      <td>-0.643471</td>\n",
       "      <td>-0.027935</td>\n",
       "      <td>-0.036014</td>\n",
       "      <td>-0.002039</td>\n",
       "      <td>-0.089162</td>\n",
       "      <td>-0.104255</td>\n",
       "      <td>0.132912</td>\n",
       "    </tr>\n",
       "    <tr>\n",
       "      <th>hp</th>\n",
       "      <td>0.608069</td>\n",
       "      <td>1.000000</td>\n",
       "      <td>0.013735</td>\n",
       "      <td>-0.025535</td>\n",
       "      <td>0.252995</td>\n",
       "      <td>0.331149</td>\n",
       "      <td>0.040451</td>\n",
       "      <td>0.433349</td>\n",
       "      <td>-0.026401</td>\n",
       "      <td>-0.048050</td>\n",
       "      <td>...</td>\n",
       "      <td>0.094190</td>\n",
       "      <td>0.111304</td>\n",
       "      <td>0.009755</td>\n",
       "      <td>-0.107138</td>\n",
       "      <td>-0.034652</td>\n",
       "      <td>0.111306</td>\n",
       "      <td>-0.016734</td>\n",
       "      <td>0.067898</td>\n",
       "      <td>-0.036446</td>\n",
       "      <td>-0.057641</td>\n",
       "    </tr>\n",
       "    <tr>\n",
       "      <th>km</th>\n",
       "      <td>0.306380</td>\n",
       "      <td>0.013735</td>\n",
       "      <td>1.000000</td>\n",
       "      <td>0.003092</td>\n",
       "      <td>0.046383</td>\n",
       "      <td>0.007789</td>\n",
       "      <td>0.106760</td>\n",
       "      <td>-0.018739</td>\n",
       "      <td>-0.015460</td>\n",
       "      <td>0.077596</td>\n",
       "      <td>...</td>\n",
       "      <td>0.032341</td>\n",
       "      <td>0.428175</td>\n",
       "      <td>0.002026</td>\n",
       "      <td>-0.433719</td>\n",
       "      <td>0.045312</td>\n",
       "      <td>-0.180433</td>\n",
       "      <td>-0.100492</td>\n",
       "      <td>-0.217220</td>\n",
       "      <td>-0.280735</td>\n",
       "      <td>0.442080</td>\n",
       "    </tr>\n",
       "    <tr>\n",
       "      <th>ss_abs</th>\n",
       "      <td>0.039455</td>\n",
       "      <td>-0.025535</td>\n",
       "      <td>0.003092</td>\n",
       "      <td>1.000000</td>\n",
       "      <td>0.043162</td>\n",
       "      <td>0.040839</td>\n",
       "      <td>-0.031936</td>\n",
       "      <td>0.046580</td>\n",
       "      <td>0.248538</td>\n",
       "      <td>0.070964</td>\n",
       "      <td>...</td>\n",
       "      <td>-0.042177</td>\n",
       "      <td>0.019120</td>\n",
       "      <td>-0.023786</td>\n",
       "      <td>-0.020374</td>\n",
       "      <td>0.014457</td>\n",
       "      <td>0.013637</td>\n",
       "      <td>0.021455</td>\n",
       "      <td>0.005178</td>\n",
       "      <td>0.030786</td>\n",
       "      <td>-0.041733</td>\n",
       "    </tr>\n",
       "    <tr>\n",
       "      <th>ss_adaptive_cruise_control</th>\n",
       "      <td>0.219180</td>\n",
       "      <td>0.252995</td>\n",
       "      <td>0.046383</td>\n",
       "      <td>0.043162</td>\n",
       "      <td>1.000000</td>\n",
       "      <td>0.202003</td>\n",
       "      <td>0.255668</td>\n",
       "      <td>0.316794</td>\n",
       "      <td>0.037572</td>\n",
       "      <td>0.104905</td>\n",
       "      <td>...</td>\n",
       "      <td>0.239071</td>\n",
       "      <td>0.092960</td>\n",
       "      <td>0.017857</td>\n",
       "      <td>-0.102319</td>\n",
       "      <td>0.071671</td>\n",
       "      <td>0.048770</td>\n",
       "      <td>0.031647</td>\n",
       "      <td>-0.020815</td>\n",
       "      <td>-0.008863</td>\n",
       "      <td>-0.026030</td>\n",
       "    </tr>\n",
       "    <tr>\n",
       "      <th>...</th>\n",
       "      <td>...</td>\n",
       "      <td>...</td>\n",
       "      <td>...</td>\n",
       "      <td>...</td>\n",
       "      <td>...</td>\n",
       "      <td>...</td>\n",
       "      <td>...</td>\n",
       "      <td>...</td>\n",
       "      <td>...</td>\n",
       "      <td>...</td>\n",
       "      <td>...</td>\n",
       "      <td>...</td>\n",
       "      <td>...</td>\n",
       "      <td>...</td>\n",
       "      <td>...</td>\n",
       "      <td>...</td>\n",
       "      <td>...</td>\n",
       "      <td>...</td>\n",
       "      <td>...</td>\n",
       "      <td>...</td>\n",
       "      <td>...</td>\n",
       "    </tr>\n",
       "    <tr>\n",
       "      <th>type_Demonstration</th>\n",
       "      <td>-0.036014</td>\n",
       "      <td>0.111306</td>\n",
       "      <td>-0.180433</td>\n",
       "      <td>0.013637</td>\n",
       "      <td>0.048770</td>\n",
       "      <td>0.043205</td>\n",
       "      <td>-0.058861</td>\n",
       "      <td>0.106895</td>\n",
       "      <td>0.031162</td>\n",
       "      <td>-0.052810</td>\n",
       "      <td>...</td>\n",
       "      <td>-0.025849</td>\n",
       "      <td>-0.123895</td>\n",
       "      <td>-0.002695</td>\n",
       "      <td>0.125743</td>\n",
       "      <td>-0.014668</td>\n",
       "      <td>1.000000</td>\n",
       "      <td>-0.062618</td>\n",
       "      <td>-0.055877</td>\n",
       "      <td>-0.073438</td>\n",
       "      <td>-0.390428</td>\n",
       "    </tr>\n",
       "    <tr>\n",
       "      <th>type_Employee's car</th>\n",
       "      <td>-0.002039</td>\n",
       "      <td>-0.016734</td>\n",
       "      <td>-0.100492</td>\n",
       "      <td>0.021455</td>\n",
       "      <td>0.031647</td>\n",
       "      <td>0.022449</td>\n",
       "      <td>-0.017133</td>\n",
       "      <td>0.013814</td>\n",
       "      <td>0.051146</td>\n",
       "      <td>-0.007933</td>\n",
       "      <td>...</td>\n",
       "      <td>-0.018475</td>\n",
       "      <td>0.003158</td>\n",
       "      <td>-0.003100</td>\n",
       "      <td>-0.002038</td>\n",
       "      <td>-0.008357</td>\n",
       "      <td>-0.062618</td>\n",
       "      <td>1.000000</td>\n",
       "      <td>-0.064264</td>\n",
       "      <td>-0.084460</td>\n",
       "      <td>-0.449029</td>\n",
       "    </tr>\n",
       "    <tr>\n",
       "      <th>type_New</th>\n",
       "      <td>-0.089162</td>\n",
       "      <td>0.067898</td>\n",
       "      <td>-0.217220</td>\n",
       "      <td>0.005178</td>\n",
       "      <td>-0.020815</td>\n",
       "      <td>0.028177</td>\n",
       "      <td>-0.024663</td>\n",
       "      <td>0.051672</td>\n",
       "      <td>0.003759</td>\n",
       "      <td>-0.055720</td>\n",
       "      <td>...</td>\n",
       "      <td>-0.017066</td>\n",
       "      <td>-0.163772</td>\n",
       "      <td>-0.002766</td>\n",
       "      <td>0.164474</td>\n",
       "      <td>-0.005645</td>\n",
       "      <td>-0.055877</td>\n",
       "      <td>-0.064264</td>\n",
       "      <td>1.000000</td>\n",
       "      <td>-0.075368</td>\n",
       "      <td>-0.400694</td>\n",
       "    </tr>\n",
       "    <tr>\n",
       "      <th>type_Pre-registered</th>\n",
       "      <td>-0.104255</td>\n",
       "      <td>-0.036446</td>\n",
       "      <td>-0.280735</td>\n",
       "      <td>0.030786</td>\n",
       "      <td>-0.008863</td>\n",
       "      <td>-0.019357</td>\n",
       "      <td>-0.019540</td>\n",
       "      <td>0.027960</td>\n",
       "      <td>0.066428</td>\n",
       "      <td>-0.018862</td>\n",
       "      <td>...</td>\n",
       "      <td>-0.033124</td>\n",
       "      <td>-0.137841</td>\n",
       "      <td>-0.003636</td>\n",
       "      <td>0.136149</td>\n",
       "      <td>0.013701</td>\n",
       "      <td>-0.073438</td>\n",
       "      <td>-0.084460</td>\n",
       "      <td>-0.075368</td>\n",
       "      <td>1.000000</td>\n",
       "      <td>-0.526618</td>\n",
       "    </tr>\n",
       "    <tr>\n",
       "      <th>type_Used</th>\n",
       "      <td>0.132912</td>\n",
       "      <td>-0.057641</td>\n",
       "      <td>0.442080</td>\n",
       "      <td>-0.041733</td>\n",
       "      <td>-0.026030</td>\n",
       "      <td>-0.036377</td>\n",
       "      <td>0.064710</td>\n",
       "      <td>-0.106328</td>\n",
       "      <td>-0.089866</td>\n",
       "      <td>0.071971</td>\n",
       "      <td>...</td>\n",
       "      <td>0.053809</td>\n",
       "      <td>0.234333</td>\n",
       "      <td>0.006904</td>\n",
       "      <td>-0.235159</td>\n",
       "      <td>0.006115</td>\n",
       "      <td>-0.390428</td>\n",
       "      <td>-0.449029</td>\n",
       "      <td>-0.400694</td>\n",
       "      <td>-0.526618</td>\n",
       "      <td>1.000000</td>\n",
       "    </tr>\n",
       "  </tbody>\n",
       "</table>\n",
       "<p>136 rows × 136 columns</p>\n",
       "</div>"
      ],
      "text/plain": [
       "                            displacement        hp        km    ss_abs  \\\n",
       "displacement                    1.000000  0.608069  0.306380  0.039455   \n",
       "hp                              0.608069  1.000000  0.013735 -0.025535   \n",
       "km                              0.306380  0.013735  1.000000  0.003092   \n",
       "ss_abs                          0.039455 -0.025535  0.003092  1.000000   \n",
       "ss_adaptive_cruise_control      0.219180  0.252995  0.046383  0.043162   \n",
       "...                                  ...       ...       ...       ...   \n",
       "type_Demonstration             -0.036014  0.111306 -0.180433  0.013637   \n",
       "type_Employee's car            -0.002039 -0.016734 -0.100492  0.021455   \n",
       "type_New                       -0.089162  0.067898 -0.217220  0.005178   \n",
       "type_Pre-registered            -0.104255 -0.036446 -0.280735  0.030786   \n",
       "type_Used                       0.132912 -0.057641  0.442080 -0.041733   \n",
       "\n",
       "                            ss_adaptive_cruise_control  \\\n",
       "displacement                                  0.219180   \n",
       "hp                                            0.252995   \n",
       "km                                            0.046383   \n",
       "ss_abs                                        0.043162   \n",
       "ss_adaptive_cruise_control                    1.000000   \n",
       "...                                                ...   \n",
       "type_Demonstration                            0.048770   \n",
       "type_Employee's car                           0.031647   \n",
       "type_New                                     -0.020815   \n",
       "type_Pre-registered                          -0.008863   \n",
       "type_Used                                    -0.026030   \n",
       "\n",
       "                            ss_adaptive_headlights  ss_alarm_system  \\\n",
       "displacement                              0.256791         0.075198   \n",
       "hp                                        0.331149         0.040451   \n",
       "km                                        0.007789         0.106760   \n",
       "ss_abs                                    0.040839        -0.031936   \n",
       "ss_adaptive_cruise_control                0.202003         0.255668   \n",
       "...                                            ...              ...   \n",
       "type_Demonstration                        0.043205        -0.058861   \n",
       "type_Employee's car                       0.022449        -0.017133   \n",
       "type_New                                  0.028177        -0.024663   \n",
       "type_Pre-registered                      -0.019357        -0.019540   \n",
       "type_Used                                -0.036377         0.064710   \n",
       "\n",
       "                            ss_blind_spot_monitor  ss_central_door_lock  \\\n",
       "displacement                             0.284346              0.008668   \n",
       "hp                                       0.433349             -0.026401   \n",
       "km                                      -0.018739             -0.015460   \n",
       "ss_abs                                   0.046580              0.248538   \n",
       "ss_adaptive_cruise_control               0.316794              0.037572   \n",
       "...                                           ...                   ...   \n",
       "type_Demonstration                       0.106895              0.031162   \n",
       "type_Employee's car                      0.013814              0.051146   \n",
       "type_New                                 0.051672              0.003759   \n",
       "type_Pre-registered                      0.027960              0.066428   \n",
       "type_Used                               -0.106328             -0.089866   \n",
       "\n",
       "                            ss_central_door_lock_with_remote_control  ...  \\\n",
       "displacement                                                0.011990  ...   \n",
       "hp                                                         -0.048050  ...   \n",
       "km                                                          0.077596  ...   \n",
       "ss_abs                                                      0.070964  ...   \n",
       "ss_adaptive_cruise_control                                  0.104905  ...   \n",
       "...                                                              ...  ...   \n",
       "type_Demonstration                                         -0.052810  ...   \n",
       "type_Employee's car                                        -0.007933  ...   \n",
       "type_New                                                   -0.055720  ...   \n",
       "type_Pre-registered                                        -0.018862  ...   \n",
       "type_Used                                                   0.071971  ...   \n",
       "\n",
       "                            gearing_type_Semi-automatic  fuel_diesel  \\\n",
       "displacement                                   0.101407     0.647354   \n",
       "hp                                             0.094190     0.111304   \n",
       "km                                             0.032341     0.428175   \n",
       "ss_abs                                        -0.042177     0.019120   \n",
       "ss_adaptive_cruise_control                     0.239071     0.092960   \n",
       "...                                                 ...          ...   \n",
       "type_Demonstration                            -0.025849    -0.123895   \n",
       "type_Employee's car                           -0.018475     0.003158   \n",
       "type_New                                      -0.017066    -0.163772   \n",
       "type_Pre-registered                           -0.033124    -0.137841   \n",
       "type_Used                                      0.053809     0.234333   \n",
       "\n",
       "                            fuel_electric  fuel_gasoline  fuel_lpg  \\\n",
       "displacement                    -0.004512      -0.643471 -0.027935   \n",
       "hp                               0.009755      -0.107138 -0.034652   \n",
       "km                               0.002026      -0.433719  0.045312   \n",
       "ss_abs                          -0.023786      -0.020374  0.014457   \n",
       "ss_adaptive_cruise_control       0.017857      -0.102319  0.071671   \n",
       "...                                   ...            ...       ...   \n",
       "type_Demonstration              -0.002695       0.125743 -0.014668   \n",
       "type_Employee's car             -0.003100      -0.002038 -0.008357   \n",
       "type_New                        -0.002766       0.164474 -0.005645   \n",
       "type_Pre-registered             -0.003636       0.136149  0.013701   \n",
       "type_Used                        0.006904      -0.235159  0.006115   \n",
       "\n",
       "                            type_Demonstration  type_Employee's car  type_New  \\\n",
       "displacement                         -0.036014            -0.002039 -0.089162   \n",
       "hp                                    0.111306            -0.016734  0.067898   \n",
       "km                                   -0.180433            -0.100492 -0.217220   \n",
       "ss_abs                                0.013637             0.021455  0.005178   \n",
       "ss_adaptive_cruise_control            0.048770             0.031647 -0.020815   \n",
       "...                                        ...                  ...       ...   \n",
       "type_Demonstration                    1.000000            -0.062618 -0.055877   \n",
       "type_Employee's car                  -0.062618             1.000000 -0.064264   \n",
       "type_New                             -0.055877            -0.064264  1.000000   \n",
       "type_Pre-registered                  -0.073438            -0.084460 -0.075368   \n",
       "type_Used                            -0.390428            -0.449029 -0.400694   \n",
       "\n",
       "                            type_Pre-registered  type_Used  \n",
       "displacement                          -0.104255   0.132912  \n",
       "hp                                    -0.036446  -0.057641  \n",
       "km                                    -0.280735   0.442080  \n",
       "ss_abs                                 0.030786  -0.041733  \n",
       "ss_adaptive_cruise_control            -0.008863  -0.026030  \n",
       "...                                         ...        ...  \n",
       "type_Demonstration                    -0.073438  -0.390428  \n",
       "type_Employee's car                   -0.084460  -0.449029  \n",
       "type_New                              -0.075368  -0.400694  \n",
       "type_Pre-registered                    1.000000  -0.526618  \n",
       "type_Used                             -0.526618   1.000000  \n",
       "\n",
       "[136 rows x 136 columns]"
      ]
     },
     "execution_count": 14,
     "metadata": {},
     "output_type": "execute_result"
    }
   ],
   "source": [
    "df.corr()"
   ]
  },
  {
   "cell_type": "code",
   "execution_count": 18,
   "metadata": {},
   "outputs": [
    {
     "data": {
      "text/plain": [
       "0    15770\n",
       "1    14500\n",
       "2    14640\n",
       "3    14500\n",
       "4    16790\n",
       "Name: price, dtype: int64"
      ]
     },
     "execution_count": 18,
     "metadata": {},
     "output_type": "execute_result"
    }
   ],
   "source": [
    "df.price.head()"
   ]
  },
  {
   "cell_type": "code",
   "execution_count": 16,
   "metadata": {},
   "outputs": [
    {
     "data": {
      "text/plain": [
       "displacement                  0.301022\n",
       "hp                            0.696620\n",
       "km                           -0.387911\n",
       "ss_abs                       -0.045100\n",
       "ss_adaptive_cruise_control    0.248674\n",
       "                                ...   \n",
       "type_Demonstration            0.253007\n",
       "type_Employee's car           0.025844\n",
       "type_New                      0.208214\n",
       "type_Pre-registered           0.130463\n",
       "type_Used                    -0.333761\n",
       "Name: price, Length: 136, dtype: float64"
      ]
     },
     "execution_count": 16,
     "metadata": {},
     "output_type": "execute_result"
    }
   ],
   "source": [
    "df.corr()[\"price\"]"
   ]
  },
  {
   "cell_type": "code",
   "execution_count": null,
   "metadata": {},
   "outputs": [],
   "source": [
    "# heatmap karisik bunlar daha net lik saglar cor[\"price\"] tail \n",
    "#ve age, km, betgir gucu vites en onemli feature lar burada\n",
    "#"
   ]
  },
  {
   "cell_type": "code",
   "execution_count": 19,
   "metadata": {},
   "outputs": [
    {
     "data": {
      "text/plain": [
       "<matplotlib.axes._subplots.AxesSubplot at 0x21dbb2c5908>"
      ]
     },
     "execution_count": 19,
     "metadata": {},
     "output_type": "execute_result"
    },
    {
     "data": {
      "image/png": "[encoded data removed]",
      "text/plain": [
       "<Figure size 432x288 with 1 Axes>"
      ]
     },
     "metadata": {
      "needs_background": "light"
     },
     "output_type": "display_data"
    }
   ],
   "source": [
    "df.corr()[\"price\"].sort_values().head(10).plot.barh()"
   ]
  },
  {
   "cell_type": "code",
   "execution_count": 20,
   "metadata": {},
   "outputs": [
    {
     "data": {
      "text/plain": [
       "<matplotlib.axes._subplots.AxesSubplot at 0x21dbb9fbd08>"
      ]
     },
     "execution_count": 20,
     "metadata": {},
     "output_type": "execute_result"
    },
    {
     "data": {
      "image/png": "[encoded data removed]",
      "text/plain": [
       "<Figure size 432x288 with 1 Axes>"
      ]
     },
     "metadata": {
      "needs_background": "light"
     },
     "output_type": "display_data"
    }
   ],
   "source": [
    "df.corr()[\"price\"].sort_values().tail(10).plot.barh()"
   ]
  },
  {
   "cell_type": "code",
   "execution_count": null,
   "metadata": {},
   "outputs": [],
   "source": []
  },
  {
   "cell_type": "code",
   "execution_count": 21,
   "metadata": {},
   "outputs": [
    {
     "data": {
      "text/plain": [
       "<matplotlib.axes._subplots.AxesSubplot at 0x21dbca3a408>"
      ]
     },
     "execution_count": 21,
     "metadata": {},
     "output_type": "execute_result"
    },
    {
     "data": {
      "image/png": "[encoded data removed]",
      "text/plain": [
       "<Figure size 432x288 with 1 Axes>"
      ]
     },
     "metadata": {
      "needs_background": "light"
     },
     "output_type": "display_data"
    }
   ],
   "source": [
    "sns.boxplot(df.price, orient=\"v\")"
   ]
  },
  {
   "cell_type": "code",
   "execution_count": null,
   "metadata": {},
   "outputs": [],
   "source": []
  },
  {
   "cell_type": "markdown",
   "metadata": {
    "id": "QsEUUAAKmqZN"
   },
   "source": [
    "## 2. Data Pre-Processing"
   ]
  },
  {
   "cell_type": "markdown",
   "metadata": {
    "id": "QtVkM6f2mqZN"
   },
   "source": [
    "As you know, the data set must be edited before proceeding to the implementation of the model. As the last step before model fitting, you need to spilit the data set as train and test. Then, you should train the model with train data and evaluate the performance of the model on the test data. You can use the train and test data you have created for all algorithms.\n",
    "\n",
    "You must also drop your target variable, the column you are trying to predict."
   ]
  },
  {
   "cell_type": "markdown",
   "metadata": {
    "id": "K7d_92iemqZN"
   },
   "source": [
    "You can use many [performance metrics for regression](https://medium.com/analytics-vidhya/evaluation-metrics-for-regression-problems-343c4923d922) to measure the performance of the regression model you train. You can define a function to view different metric results together.\n",
    "\n",
    "You can also use the [cross validation](https://towardsdatascience.com/cross-validation-explained-evaluating-estimator-performance-e51e5430ff85) method to measure the estimator performance. Cross validation uses different data samples from your test set and calculates the accuracy score for each data sample. You can calculate the final performance of your estimator by averaging these scores."
   ]
  },
  {
   "cell_type": "code",
   "execution_count": 22,
   "metadata": {
    "id": "-3gMQ3utmqZN"
   },
   "outputs": [],
   "source": [
    "X= df.drop(\"price\", axis =1)\n",
    "y= df[\"price\"]"
   ]
  },
  {
   "cell_type": "code",
   "execution_count": 24,
   "metadata": {},
   "outputs": [],
   "source": [
    "X_train, X_test, y_train, y_test = train_test_split(df.drop('price',axis=1),\n",
    "                                                    df['price'], test_size=0.2,\n",
    "                                                    random_state=42)"
   ]
  },
  {
   "cell_type": "code",
   "execution_count": 25,
   "metadata": {},
   "outputs": [
    {
     "data": {
      "text/plain": [
       "(11242, 135)"
      ]
     },
     "execution_count": 25,
     "metadata": {},
     "output_type": "execute_result"
    }
   ],
   "source": [
    "X_train.shape"
   ]
  },
  {
   "cell_type": "code",
   "execution_count": 26,
   "metadata": {},
   "outputs": [],
   "source": [
    "def eval_metrics(actual, pred):\n",
    "    rmse = np.sqrt(mean_squared_error(actual, pred))\n",
    "    mae = mean_absolute_error(actual, pred)\n",
    "    mse = mean_squared_error(actual, pred)\n",
    "    score = r2_score(actual, pred)\n",
    "    return print(\"r2_score:\", score, \"\\n\",\"mae:\", mae, \"\\n\",\"mse:\",mse, \"\\n\",\"rmse:\",rmse)\n"
   ]
  },
  {
   "cell_type": "code",
   "execution_count": 28,
   "metadata": {},
   "outputs": [],
   "source": [
    "from sklearn.linear_model import LinearRegression"
   ]
  },
  {
   "cell_type": "code",
   "execution_count": 29,
   "metadata": {},
   "outputs": [
    {
     "data": {
      "text/plain": [
       "LinearRegression(copy_X=True, fit_intercept=True, n_jobs=None, normalize=False)"
      ]
     },
     "execution_count": 29,
     "metadata": {},
     "output_type": "execute_result"
    }
   ],
   "source": [
    "lm =  LinearRegression()\n",
    "lm.fit(X_train, y_train)"
   ]
  },
  {
   "cell_type": "code",
   "execution_count": 30,
   "metadata": {},
   "outputs": [],
   "source": [
    "y_pred = lm.predict(X_test)"
   ]
  },
  {
   "cell_type": "code",
   "execution_count": 31,
   "metadata": {},
   "outputs": [
    {
     "name": "stdout",
     "output_type": "stream",
     "text": [
      "r2_score: 0.8824154541427274 \n",
      " mae: 1689.3532442989738 \n",
      " mse: 6019220.512007881 \n",
      " rmse: 2453.4099763406607\n"
     ]
    }
   ],
   "source": [
    "eval_metrics(y_test, y_pred)"
   ]
  },
  {
   "cell_type": "code",
   "execution_count": 32,
   "metadata": {},
   "outputs": [
    {
     "data": {
      "text/plain": [
       "<matplotlib.collections.PathCollection at 0x21dbf4eb148>"
      ]
     },
     "execution_count": 32,
     "metadata": {},
     "output_type": "execute_result"
    },
    {
     "data": {
      "image/png": "[encoded data removed]",
      "text/plain": [
       "<Figure size 432x288 with 1 Axes>"
      ]
     },
     "metadata": {
      "needs_background": "light"
     },
     "output_type": "display_data"
    }
   ],
   "source": [
    "plt.scatter(y_test, y_pred)"
   ]
  },
  {
   "cell_type": "code",
   "execution_count": 33,
   "metadata": {},
   "outputs": [
    {
     "data": {
      "image/png": "[encoded data removed]",
      "text/plain": [
       "<Figure size 576x396 with 1 Axes>"
      ]
     },
     "metadata": {},
     "output_type": "display_data"
    },
    {
     "data": {
      "text/plain": [
       "<matplotlib.axes._subplots.AxesSubplot at 0x21dc11b5e88>"
      ]
     },
     "execution_count": 33,
     "metadata": {},
     "output_type": "execute_result"
    }
   ],
   "source": [
    "# Pediction library\n",
    "from yellowbrick.regressor import PredictionError\n",
    "visualizer = PredictionError(lm)\n",
    "visualizer.fit(X_train, y_train)  # Fit the training data to the visualizer\n",
    "visualizer.score(X_test, y_test)  # Evaluate the model on the test data\n",
    "visualizer.show()"
   ]
  },
  {
   "cell_type": "code",
   "execution_count": null,
   "metadata": {},
   "outputs": [],
   "source": [
    "# Normal dagilim cikmis, ama residual cok var. Maviler cok daginik trainler mesela, fiyatlar yukseldikce tahmin azalmis iyice mesela, model daha cok hata yapmis."
   ]
  },
  {
   "cell_type": "code",
   "execution_count": 34,
   "metadata": {},
   "outputs": [
    {
     "data": {
      "image/png": "[encoded data removed]",
      "text/plain": [
       "<Figure size 576x396 with 2 Axes>"
      ]
     },
     "metadata": {},
     "output_type": "display_data"
    },
    {
     "data": {
      "text/plain": [
       "<matplotlib.axes._subplots.AxesSubplot at 0x21dc1252f88>"
      ]
     },
     "execution_count": 34,
     "metadata": {},
     "output_type": "execute_result"
    }
   ],
   "source": [
    "# Yellowbrick Residual Plot\n",
    "from yellowbrick.regressor import ResidualsPlot\n",
    "visualizer = ResidualsPlot(lm)\n",
    "visualizer.fit(X_train, y_train)\n",
    "visualizer.score(X_test, y_test)\n",
    "visualizer.show()\n"
   ]
  },
  {
   "cell_type": "code",
   "execution_count": 36,
   "metadata": {},
   "outputs": [],
   "source": [
    "my_dict = { 'Actual': y_test, 'Pred': y_pred }\n",
    "compare = pd.DataFrame(my_dict)"
   ]
  },
  {
   "cell_type": "code",
   "execution_count": 37,
   "metadata": {},
   "outputs": [
    {
     "data": {
      "text/html": [
       "<div>\n",
       "<style scoped>\n",
       "    .dataframe tbody tr th:only-of-type {\n",
       "        vertical-align: middle;\n",
       "    }\n",
       "\n",
       "    .dataframe tbody tr th {\n",
       "        vertical-align: top;\n",
       "    }\n",
       "\n",
       "    .dataframe thead th {\n",
       "        text-align: right;\n",
       "    }\n",
       "</style>\n",
       "<table border=\"1\" class=\"dataframe\">\n",
       "  <thead>\n",
       "    <tr style=\"text-align: right;\">\n",
       "      <th></th>\n",
       "      <th>Actual</th>\n",
       "      <th>Pred</th>\n",
       "    </tr>\n",
       "  </thead>\n",
       "  <tbody>\n",
       "    <tr>\n",
       "      <th>3324</th>\n",
       "      <td>27500</td>\n",
       "      <td>25625.909361</td>\n",
       "    </tr>\n",
       "    <tr>\n",
       "      <th>15691</th>\n",
       "      <td>38580</td>\n",
       "      <td>39888.478757</td>\n",
       "    </tr>\n",
       "    <tr>\n",
       "      <th>11409</th>\n",
       "      <td>21000</td>\n",
       "      <td>18749.318981</td>\n",
       "    </tr>\n",
       "    <tr>\n",
       "      <th>8938</th>\n",
       "      <td>7950</td>\n",
       "      <td>6727.108819</td>\n",
       "    </tr>\n",
       "    <tr>\n",
       "      <th>269</th>\n",
       "      <td>17820</td>\n",
       "      <td>19598.944494</td>\n",
       "    </tr>\n",
       "    <tr>\n",
       "      <th>1679</th>\n",
       "      <td>21670</td>\n",
       "      <td>20790.859084</td>\n",
       "    </tr>\n",
       "    <tr>\n",
       "      <th>3275</th>\n",
       "      <td>12950</td>\n",
       "      <td>11371.924877</td>\n",
       "    </tr>\n",
       "    <tr>\n",
       "      <th>11011</th>\n",
       "      <td>13499</td>\n",
       "      <td>15620.033034</td>\n",
       "    </tr>\n",
       "    <tr>\n",
       "      <th>15497</th>\n",
       "      <td>32500</td>\n",
       "      <td>25105.411131</td>\n",
       "    </tr>\n",
       "    <tr>\n",
       "      <th>6708</th>\n",
       "      <td>16500</td>\n",
       "      <td>16637.696330</td>\n",
       "    </tr>\n",
       "  </tbody>\n",
       "</table>\n",
       "</div>"
      ],
      "text/plain": [
       "       Actual          Pred\n",
       "3324    27500  25625.909361\n",
       "15691   38580  39888.478757\n",
       "11409   21000  18749.318981\n",
       "8938     7950   6727.108819\n",
       "269     17820  19598.944494\n",
       "1679    21670  20790.859084\n",
       "3275    12950  11371.924877\n",
       "11011   13499  15620.033034\n",
       "15497   32500  25105.411131\n",
       "6708    16500  16637.696330"
      ]
     },
     "execution_count": 37,
     "metadata": {},
     "output_type": "execute_result"
    }
   ],
   "source": [
    "compare.sample(10)"
   ]
  },
  {
   "cell_type": "code",
   "execution_count": 42,
   "metadata": {},
   "outputs": [
    {
     "data": {
      "text/plain": [
       "0.8890254742726214"
      ]
     },
     "execution_count": 42,
     "metadata": {},
     "output_type": "execute_result"
    }
   ],
   "source": [
    "from sklearn.model_selection import cross_val_score\n",
    "cv_scores = cross_val_score(estimator=lm, X=X_train, y=y_train, cv=5)#default 5 zaten ama yazdik biz yinede cv yi.\n",
    "cv_scores.mean()\n"
   ]
  },
  {
   "cell_type": "code",
   "execution_count": 43,
   "metadata": {},
   "outputs": [
    {
     "data": {
      "text/plain": [
       "array([0.88854671, 0.88870467, 0.89751273, 0.88704163, 0.88332163])"
      ]
     },
     "execution_count": 43,
     "metadata": {},
     "output_type": "execute_result"
    }
   ],
   "source": [
    "cv_scores ### Accuries"
   ]
  },
  {
   "cell_type": "code",
   "execution_count": null,
   "metadata": {},
   "outputs": [],
   "source": []
  },
  {
   "cell_type": "code",
   "execution_count": null,
   "metadata": {},
   "outputs": [],
   "source": []
  },
  {
   "cell_type": "markdown",
   "metadata": {
    "id": "An_5ITcAmqZO"
   },
   "source": [
    "## 3. Implement Linear Regression"
   ]
  },
  {
   "cell_type": "markdown",
   "metadata": {
    "id": "0c0y-w8vmqZO"
   },
   "source": [
    " - Import the modul\n",
    " - Fit the model \n",
    " - Predict the test set\n",
    " - Determine feature coefficiant\n",
    " - Evaluate model performance (use performance metrics for regression and cross_val_score)\n",
    " - Compare different evaluation metrics\n",
    " \n",
    "*Note: You can use the [dir()](https://www.geeksforgeeks.org/python-dir-function/) function to see the methods you need.*"
   ]
  },
  {
   "cell_type": "code",
   "execution_count": null,
   "metadata": {
    "id": "lq6UKn_HmqZO"
   },
   "outputs": [],
   "source": []
  },
  {
   "cell_type": "markdown",
   "metadata": {
    "id": "n2ROwYsymqZO"
   },
   "source": [
    "## 4. Implement Ridge Regression"
   ]
  },
  {
   "cell_type": "markdown",
   "metadata": {
    "id": "3RvdF8CRmqZO"
   },
   "source": [
    "- Import the modul \n",
    "- Do not forget to scale the data or use Normalize parameter as True \n",
    "- Fit the model \n",
    "- Predict the test set \n",
    "- Evaluate model performance (use performance metrics for regression) \n",
    "- Tune alpha hiperparameter by using [cross validation](https://scikit-learn.org/stable/modules/generated/sklearn.linear_model.RidgeCV.html) and determine the optimal alpha value.\n",
    "- Fit the model and predict again with the new alpha value. "
   ]
  },
  {
   "cell_type": "code",
   "execution_count": null,
   "metadata": {
    "id": "CXm_zzZMmqZO"
   },
   "outputs": [],
   "source": []
  },
  {
   "cell_type": "markdown",
   "metadata": {
    "id": "oDfXOSnpmqZO"
   },
   "source": [
    "## 5. Implement Lasso Regression"
   ]
  },
  {
   "cell_type": "markdown",
   "metadata": {
    "id": "icqyxzBymqZO"
   },
   "source": [
    "- Import the modul \n",
    "- Do not forget to scale the data or use Normalize parameter as True\n",
    "- Fit the model \n",
    "- Predict the test set \n",
    "- Evaluate model performance (use performance metrics for regression) \n",
    "- Tune alpha hyperparameter by using [cross validation](https://scikit-learn.org/stable/modules/generated/sklearn.linear_model.LassoCV.html) and determine the optimal alpha value.\n",
    "- Fit the model and predict again with the new alpha value.\n",
    "- Compare different evaluation metrics\n",
    "\n",
    "*Note: To understand the importance of the alpha hyperparameter, you can observe the effects of different alpha values on feature coefficants.*"
   ]
  },
  {
   "cell_type": "code",
   "execution_count": null,
   "metadata": {
    "id": "KbGqu0u5mqZO"
   },
   "outputs": [],
   "source": []
  },
  {
   "cell_type": "markdown",
   "metadata": {
    "id": "qpoOypMbmqZO"
   },
   "source": []
  },
  {
   "cell_type": "markdown",
   "metadata": {
    "id": "El7SNJUemqZO"
   },
   "source": []
  },
  {
   "cell_type": "code",
   "execution_count": null,
   "metadata": {
    "id": "XKVr6v2JmqZO"
   },
   "outputs": [],
   "source": []
  },
  {
   "cell_type": "markdown",
   "metadata": {
    "id": "sYyuZQtWmqZO"
   },
   "source": []
  },
  {
   "cell_type": "markdown",
   "metadata": {
    "id": "KEx_yvujmqZO"
   },
   "source": []
  },
  {
   "cell_type": "code",
   "execution_count": null,
   "metadata": {
    "id": "iig18G7zmqZO"
   },
   "outputs": [],
   "source": []
  },
  {
   "cell_type": "markdown",
   "metadata": {
    "id": "AnZ-aDHFmqZO"
   },
   "source": [
    "___\n",
    "\n",
    "<p style=\"text-align: center;\"><img src=\"https://docs.google.com/uc?id=1lY0Uj5R04yMY3-ZppPWxqCr5pvBLYPnV\" class=\"img-fluid\" alt=\"CLRSWY\"></p>\n",
    "\n",
    "___"
   ]
  }
 ],
 "metadata": {
  "colab": {
   "collapsed_sections": [],
   "name": "modeling_auto_scout_Student_V1.ipynb",
   "provenance": []
  },
  "kernelspec": {
   "display_name": "Python 3",
   "language": "python",
   "name": "python3"
  },
  "language_info": {
   "codemirror_mode": {
    "name": "ipython",
    "version": 3
   },
   "file_extension": ".py",
   "mimetype": "text/x-python",
   "name": "python",
   "nbconvert_exporter": "python",
   "pygments_lexer": "ipython3",
   "version": "3.7.6"
  }
 },
 "nbformat": 4,
 "nbformat_minor": 1
}
